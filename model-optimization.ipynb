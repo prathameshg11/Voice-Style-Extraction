{
 "cells": [
  {
   "cell_type": "code",
   "execution_count": 1,
   "id": "89c253a8",
   "metadata": {
    "execution": {
     "iopub.execute_input": "2022-03-09T15:46:48.640739Z",
     "iopub.status.busy": "2022-03-09T15:46:48.638484Z",
     "iopub.status.idle": "2022-03-09T15:46:52.545002Z",
     "shell.execute_reply": "2022-03-09T15:46:52.544190Z",
     "shell.execute_reply.started": "2022-03-09T13:57:34.392776Z"
    },
    "papermill": {
     "duration": 3.991795,
     "end_time": "2022-03-09T15:46:52.545186",
     "exception": false,
     "start_time": "2022-03-09T15:46:48.553391",
     "status": "completed"
    },
    "tags": []
   },
   "outputs": [],
   "source": [
    "import numpy as np\n",
    "import pandas as pd\n",
    "import os\n",
    "import IPython.display as ipd\n",
    "import librosa\n",
    "import matplotlib.pyplot as plt\n",
    "from pydub import AudioSegment\n",
    "import glob \n",
    "import librosa.display\n",
    "import pickle\n",
    "import random\n",
    "import gc\n",
    "from ignite.handlers import FastaiLRFinder"
   ]
  },
  {
   "cell_type": "code",
   "execution_count": 2,
   "id": "7fad3480",
   "metadata": {
    "execution": {
     "iopub.execute_input": "2022-03-09T15:46:52.622543Z",
     "iopub.status.busy": "2022-03-09T15:46:52.621637Z",
     "iopub.status.idle": "2022-03-09T15:46:52.829321Z",
     "shell.execute_reply": "2022-03-09T15:46:52.829832Z",
     "shell.execute_reply.started": "2022-03-09T13:57:36.478796Z"
    },
    "papermill": {
     "duration": 0.247977,
     "end_time": "2022-03-09T15:46:52.830020",
     "exception": false,
     "start_time": "2022-03-09T15:46:52.582043",
     "status": "completed"
    },
    "tags": []
   },
   "outputs": [],
   "source": [
    "import torch\n",
    "from torch import nn\n",
    "from torch.utils.data import DataLoader, Dataset, TensorDataset\n",
    "from torchvision import datasets\n",
    "from torchvision.transforms import ToTensor, Lambda, Compose\n",
    "import torch.nn.functional as F\n",
    "from torch.nn.modules.activation import ReLU"
   ]
  },
  {
   "cell_type": "code",
   "execution_count": 3,
   "id": "9f4d28c2",
   "metadata": {
    "execution": {
     "iopub.execute_input": "2022-03-09T15:46:52.902320Z",
     "iopub.status.busy": "2022-03-09T15:46:52.901579Z",
     "iopub.status.idle": "2022-03-09T15:47:39.953599Z",
     "shell.execute_reply": "2022-03-09T15:47:39.954211Z",
     "shell.execute_reply.started": "2022-03-09T13:57:36.613028Z"
    },
    "papermill": {
     "duration": 47.091439,
     "end_time": "2022-03-09T15:47:39.954386",
     "exception": false,
     "start_time": "2022-03-09T15:46:52.862947",
     "status": "completed"
    },
    "tags": []
   },
   "outputs": [],
   "source": [
    "tensor_trx1 = torch.load('../input/train-test-dataset/anchtensor_train.pt')\n",
    "tensor_trx2 = torch.load('../input/train-test-dataset/positensor_train.pt')\n",
    "tensor_trxy = torch.load('../input/train-test-dataset/idtensor_train.pt')\n",
    "tensor_tsx1 = torch.load('../input/train-test-dataset/anchtensor_test.pt')\n",
    "tensor_tsx2 = torch.load('../input/train-test-dataset/positensor_test.pt')\n",
    "tensor_tsxy = torch.load('../input/train-test-dataset/idtensor_test.pt')"
   ]
  },
  {
   "cell_type": "code",
   "execution_count": 4,
   "id": "196ea61b",
   "metadata": {
    "execution": {
     "iopub.execute_input": "2022-03-09T15:47:40.029370Z",
     "iopub.status.busy": "2022-03-09T15:47:40.028594Z",
     "iopub.status.idle": "2022-03-09T15:47:40.032814Z",
     "shell.execute_reply": "2022-03-09T15:47:40.033319Z",
     "shell.execute_reply.started": "2022-03-09T13:58:17.821501Z"
    },
    "papermill": {
     "duration": 0.045618,
     "end_time": "2022-03-09T15:47:40.033474",
     "exception": false,
     "start_time": "2022-03-09T15:47:39.987856",
     "status": "completed"
    },
    "tags": []
   },
   "outputs": [
    {
     "data": {
      "text/plain": [
       "torch.Size([24257, 32000])"
      ]
     },
     "execution_count": 4,
     "metadata": {},
     "output_type": "execute_result"
    }
   ],
   "source": [
    "tensor_trx1.shape"
   ]
  },
  {
   "cell_type": "code",
   "execution_count": 5,
   "id": "6224a3c6",
   "metadata": {
    "execution": {
     "iopub.execute_input": "2022-03-09T15:47:40.104453Z",
     "iopub.status.busy": "2022-03-09T15:47:40.103459Z",
     "iopub.status.idle": "2022-03-09T15:47:40.106166Z",
     "shell.execute_reply": "2022-03-09T15:47:40.106710Z",
     "shell.execute_reply.started": "2022-03-09T13:58:17.832842Z"
    },
    "papermill": {
     "duration": 0.041087,
     "end_time": "2022-03-09T15:47:40.106932",
     "exception": false,
     "start_time": "2022-03-09T15:47:40.065845",
     "status": "completed"
    },
    "tags": []
   },
   "outputs": [],
   "source": [
    "batch_size = 32"
   ]
  },
  {
   "cell_type": "code",
   "execution_count": 6,
   "id": "8760eb0f",
   "metadata": {
    "execution": {
     "iopub.execute_input": "2022-03-09T15:47:40.178159Z",
     "iopub.status.busy": "2022-03-09T15:47:40.177171Z",
     "iopub.status.idle": "2022-03-09T15:47:40.179271Z",
     "shell.execute_reply": "2022-03-09T15:47:40.179780Z",
     "shell.execute_reply.started": "2022-03-09T13:58:17.840469Z"
    },
    "papermill": {
     "duration": 0.040612,
     "end_time": "2022-03-09T15:47:40.179958",
     "exception": false,
     "start_time": "2022-03-09T15:47:40.139346",
     "status": "completed"
    },
    "tags": []
   },
   "outputs": [],
   "source": [
    "train_dataset = TensorDataset(tensor_trx1, tensor_trxy, tensor_trx2) \n",
    "test_dataset = TensorDataset(tensor_tsx1, tensor_tsxy, tensor_tsx2) \n",
    "train_dataloader = DataLoader(train_dataset, batch_size = batch_size, shuffle=True, drop_last=True) # create your dataloader\n",
    "validation_dataloader = DataLoader(test_dataset, batch_size = batch_size, shuffle=True, drop_last=True) # create your dataloader"
   ]
  },
  {
   "cell_type": "code",
   "execution_count": 7,
   "id": "77f3e500",
   "metadata": {
    "execution": {
     "iopub.execute_input": "2022-03-09T15:47:40.310225Z",
     "iopub.status.busy": "2022-03-09T15:47:40.309034Z",
     "iopub.status.idle": "2022-03-09T15:47:40.313139Z",
     "shell.execute_reply": "2022-03-09T15:47:40.313680Z",
     "shell.execute_reply.started": "2022-03-09T13:58:17.852154Z"
    },
    "papermill": {
     "duration": 0.102046,
     "end_time": "2022-03-09T15:47:40.313874",
     "exception": false,
     "start_time": "2022-03-09T15:47:40.211828",
     "status": "completed"
    },
    "tags": []
   },
   "outputs": [
    {
     "name": "stdout",
     "output_type": "stream",
     "text": [
      "Using cuda device\n"
     ]
    }
   ],
   "source": [
    "# Get cpu or gpu device for training.\n",
    "device = \"cuda\" if torch.cuda.is_available() else \"cpu\"\n",
    "print(f\"Using {device} device\")"
   ]
  },
  {
   "cell_type": "code",
   "execution_count": 8,
   "id": "7ae4d8e7",
   "metadata": {
    "execution": {
     "iopub.execute_input": "2022-03-09T15:47:40.427604Z",
     "iopub.status.busy": "2022-03-09T15:47:40.426763Z",
     "iopub.status.idle": "2022-03-09T15:47:44.153613Z",
     "shell.execute_reply": "2022-03-09T15:47:44.153050Z",
     "shell.execute_reply.started": "2022-03-09T13:58:17.919173Z"
    },
    "papermill": {
     "duration": 3.80709,
     "end_time": "2022-03-09T15:47:44.153753",
     "exception": false,
     "start_time": "2022-03-09T15:47:40.346663",
     "status": "completed"
    },
    "tags": []
   },
   "outputs": [
    {
     "name": "stdout",
     "output_type": "stream",
     "text": [
      "ResNet(\n",
      "  (conv1): Conv1d(1, 64, kernel_size=(7,), stride=(2,))\n",
      "  (bn1): BatchNorm1d(64, eps=1e-05, momentum=0.1, affine=True, track_running_stats=True)\n",
      "  (relu): ReLU()\n",
      "  (maxpool): MaxPool1d(kernel_size=3, stride=2, padding=0, dilation=1, ceil_mode=False)\n",
      "  (layer1): Sequential(\n",
      "    (0): Block(\n",
      "      (conv1): Conv1d(64, 64, kernel_size=(1,), stride=(1,))\n",
      "      (bn1): BatchNorm1d(64, eps=1e-05, momentum=0.1, affine=True, track_running_stats=True)\n",
      "      (conv2): Conv1d(64, 64, kernel_size=(3,), stride=(1,), padding=(1,))\n",
      "      (bn2): BatchNorm1d(64, eps=1e-05, momentum=0.1, affine=True, track_running_stats=True)\n",
      "      (conv3): Conv1d(64, 64, kernel_size=(1,), stride=(1,))\n",
      "      (bn3): BatchNorm1d(64, eps=1e-05, momentum=0.1, affine=True, track_running_stats=True)\n",
      "      (relu): ReLU()\n",
      "      (identity_downsample): Sequential(\n",
      "        (0): Conv1d(64, 64, kernel_size=(1,), stride=(1,))\n",
      "        (1): BatchNorm1d(64, eps=1e-05, momentum=0.1, affine=True, track_running_stats=True)\n",
      "      )\n",
      "    )\n",
      "    (1): Block(\n",
      "      (conv1): Conv1d(64, 64, kernel_size=(1,), stride=(1,))\n",
      "      (bn1): BatchNorm1d(64, eps=1e-05, momentum=0.1, affine=True, track_running_stats=True)\n",
      "      (conv2): Conv1d(64, 64, kernel_size=(3,), stride=(1,), padding=(1,))\n",
      "      (bn2): BatchNorm1d(64, eps=1e-05, momentum=0.1, affine=True, track_running_stats=True)\n",
      "      (conv3): Conv1d(64, 64, kernel_size=(1,), stride=(1,))\n",
      "      (bn3): BatchNorm1d(64, eps=1e-05, momentum=0.1, affine=True, track_running_stats=True)\n",
      "      (relu): ReLU()\n",
      "    )\n",
      "  )\n",
      "  (layer2): Sequential(\n",
      "    (0): Block(\n",
      "      (conv1): Conv1d(64, 128, kernel_size=(1,), stride=(1,))\n",
      "      (bn1): BatchNorm1d(128, eps=1e-05, momentum=0.1, affine=True, track_running_stats=True)\n",
      "      (conv2): Conv1d(64, 128, kernel_size=(3,), stride=(2,), padding=(1,))\n",
      "      (bn2): BatchNorm1d(128, eps=1e-05, momentum=0.1, affine=True, track_running_stats=True)\n",
      "      (conv3): Conv1d(128, 128, kernel_size=(1,), stride=(1,))\n",
      "      (bn3): BatchNorm1d(128, eps=1e-05, momentum=0.1, affine=True, track_running_stats=True)\n",
      "      (relu): ReLU()\n",
      "      (identity_downsample): Sequential(\n",
      "        (0): Conv1d(64, 128, kernel_size=(1,), stride=(2,))\n",
      "        (1): BatchNorm1d(128, eps=1e-05, momentum=0.1, affine=True, track_running_stats=True)\n",
      "      )\n",
      "    )\n",
      "    (1): Block(\n",
      "      (conv1): Conv1d(128, 128, kernel_size=(1,), stride=(1,))\n",
      "      (bn1): BatchNorm1d(128, eps=1e-05, momentum=0.1, affine=True, track_running_stats=True)\n",
      "      (conv2): Conv1d(128, 128, kernel_size=(3,), stride=(1,), padding=(1,))\n",
      "      (bn2): BatchNorm1d(128, eps=1e-05, momentum=0.1, affine=True, track_running_stats=True)\n",
      "      (conv3): Conv1d(128, 128, kernel_size=(1,), stride=(1,))\n",
      "      (bn3): BatchNorm1d(128, eps=1e-05, momentum=0.1, affine=True, track_running_stats=True)\n",
      "      (relu): ReLU()\n",
      "    )\n",
      "  )\n",
      "  (layer3): Sequential(\n",
      "    (0): Block(\n",
      "      (conv1): Conv1d(128, 256, kernel_size=(1,), stride=(1,))\n",
      "      (bn1): BatchNorm1d(256, eps=1e-05, momentum=0.1, affine=True, track_running_stats=True)\n",
      "      (conv2): Conv1d(128, 256, kernel_size=(3,), stride=(2,), padding=(1,))\n",
      "      (bn2): BatchNorm1d(256, eps=1e-05, momentum=0.1, affine=True, track_running_stats=True)\n",
      "      (conv3): Conv1d(256, 256, kernel_size=(1,), stride=(1,))\n",
      "      (bn3): BatchNorm1d(256, eps=1e-05, momentum=0.1, affine=True, track_running_stats=True)\n",
      "      (relu): ReLU()\n",
      "      (identity_downsample): Sequential(\n",
      "        (0): Conv1d(128, 256, kernel_size=(1,), stride=(2,))\n",
      "        (1): BatchNorm1d(256, eps=1e-05, momentum=0.1, affine=True, track_running_stats=True)\n",
      "      )\n",
      "    )\n",
      "    (1): Block(\n",
      "      (conv1): Conv1d(256, 256, kernel_size=(1,), stride=(1,))\n",
      "      (bn1): BatchNorm1d(256, eps=1e-05, momentum=0.1, affine=True, track_running_stats=True)\n",
      "      (conv2): Conv1d(256, 256, kernel_size=(3,), stride=(1,), padding=(1,))\n",
      "      (bn2): BatchNorm1d(256, eps=1e-05, momentum=0.1, affine=True, track_running_stats=True)\n",
      "      (conv3): Conv1d(256, 256, kernel_size=(1,), stride=(1,))\n",
      "      (bn3): BatchNorm1d(256, eps=1e-05, momentum=0.1, affine=True, track_running_stats=True)\n",
      "      (relu): ReLU()\n",
      "    )\n",
      "  )\n",
      "  (layer4): Sequential(\n",
      "    (0): Block(\n",
      "      (conv1): Conv1d(256, 512, kernel_size=(1,), stride=(1,))\n",
      "      (bn1): BatchNorm1d(512, eps=1e-05, momentum=0.1, affine=True, track_running_stats=True)\n",
      "      (conv2): Conv1d(256, 512, kernel_size=(3,), stride=(2,), padding=(1,))\n",
      "      (bn2): BatchNorm1d(512, eps=1e-05, momentum=0.1, affine=True, track_running_stats=True)\n",
      "      (conv3): Conv1d(512, 512, kernel_size=(1,), stride=(1,))\n",
      "      (bn3): BatchNorm1d(512, eps=1e-05, momentum=0.1, affine=True, track_running_stats=True)\n",
      "      (relu): ReLU()\n",
      "      (identity_downsample): Sequential(\n",
      "        (0): Conv1d(256, 512, kernel_size=(1,), stride=(2,))\n",
      "        (1): BatchNorm1d(512, eps=1e-05, momentum=0.1, affine=True, track_running_stats=True)\n",
      "      )\n",
      "    )\n",
      "    (1): Block(\n",
      "      (conv1): Conv1d(512, 512, kernel_size=(1,), stride=(1,))\n",
      "      (bn1): BatchNorm1d(512, eps=1e-05, momentum=0.1, affine=True, track_running_stats=True)\n",
      "      (conv2): Conv1d(512, 512, kernel_size=(3,), stride=(1,), padding=(1,))\n",
      "      (bn2): BatchNorm1d(512, eps=1e-05, momentum=0.1, affine=True, track_running_stats=True)\n",
      "      (conv3): Conv1d(512, 512, kernel_size=(1,), stride=(1,))\n",
      "      (bn3): BatchNorm1d(512, eps=1e-05, momentum=0.1, affine=True, track_running_stats=True)\n",
      "      (relu): ReLU()\n",
      "    )\n",
      "  )\n",
      "  (conv5): Conv1d(512, 512, kernel_size=(3,), stride=(2,), padding=(1,))\n",
      "  (bn5): BatchNorm1d(512, eps=1e-05, momentum=0.1, affine=True, track_running_stats=True)\n",
      "  (conv6): Conv1d(512, 512, kernel_size=(3,), stride=(2,), padding=(1,))\n",
      "  (bn6): BatchNorm1d(512, eps=1e-05, momentum=0.1, affine=True, track_running_stats=True)\n",
      "  (conv7): Conv1d(512, 512, kernel_size=(3,), stride=(2,), padding=(1,))\n",
      "  (bn7): BatchNorm1d(512, eps=1e-05, momentum=0.1, affine=True, track_running_stats=True)\n",
      "  (conv8): Conv1d(512, 512, kernel_size=(3,), stride=(2,))\n",
      "  (bn8): BatchNorm1d(512, eps=1e-05, momentum=0.1, affine=True, track_running_stats=True)\n",
      "  (conv9): Conv1d(512, 512, kernel_size=(3,), stride=(2,))\n",
      "  (bn9): BatchNorm1d(512, eps=1e-05, momentum=0.1, affine=True, track_running_stats=True)\n",
      "  (flatten): Flatten(start_dim=1, end_dim=-1)\n",
      "  (fc): Linear(in_features=15360, out_features=512, bias=True)\n",
      ")\n"
     ]
    }
   ],
   "source": [
    "class Block(nn.Module):\n",
    "    def __init__(self, num_layers, in_channels, out_channels, identity_downsample=None, stride=1):\n",
    "        assert num_layers in [18, 34, 50, 101, 152], \"should be a a valid architecture\"\n",
    "        super(Block, self).__init__()\n",
    "        self.num_layers = num_layers\n",
    "        if self.num_layers > 34:\n",
    "            self.expansion = 4\n",
    "        else:\n",
    "            self.expansion = 1\n",
    "        # ResNet50, 101, and 152 include additional layer of 1x1 kernels\n",
    "        self.conv1 = nn.Conv1d(in_channels, out_channels, kernel_size=1, stride=1, padding=0)\n",
    "        self.bn1 = nn.BatchNorm1d(out_channels)\n",
    "        if self.num_layers > 34:\n",
    "            self.conv2 = nn.Conv1d(out_channels, out_channels, kernel_size=3, stride=stride, padding=1)\n",
    "        else:\n",
    "            # for ResNet18 and 34, connect input directly to (3x3) kernel (skip first (1x1))\n",
    "            self.conv2 = nn.Conv1d(in_channels, out_channels, kernel_size=3, stride=stride, padding=1)\n",
    "        self.bn2 = nn.BatchNorm1d(out_channels)\n",
    "        self.conv3 = nn.Conv1d(out_channels, out_channels * self.expansion, kernel_size=1, stride=1, padding=0)\n",
    "        self.bn3 = nn.BatchNorm1d(out_channels * self.expansion)\n",
    "        self.relu = nn.ReLU()\n",
    "        self.identity_downsample = identity_downsample\n",
    "\n",
    "    def forward(self, x):\n",
    "        identity = x\n",
    "        if self.num_layers > 34:\n",
    "            x = self.conv1(x)\n",
    "            x = self.bn1(x)\n",
    "            x = self.relu(x)\n",
    "        x = self.conv2(x)\n",
    "        x = self.bn2(x)\n",
    "        x = self.relu(x)\n",
    "        x = self.conv3(x)\n",
    "        x = self.bn3(x)\n",
    "\n",
    "        if self.identity_downsample is not None:\n",
    "            identity = self.identity_downsample(identity)\n",
    "\n",
    "        x += identity\n",
    "        x = self.relu(x)\n",
    "        return x\n",
    "\n",
    "\n",
    "class ResNet(nn.Module):\n",
    "    def __init__(self, num_layers, block, image_channels, num_classes):\n",
    "        assert num_layers in [18, 34, 50, 101, 152], f'ResNet{num_layers}: Unknown architecture! Number of layers has ' \\\n",
    "                                                     f'to be 18, 34, 50, 101, or 152 '\n",
    "        super(ResNet, self).__init__()\n",
    "        if num_layers < 50:\n",
    "            self.expansion = 1\n",
    "        else:\n",
    "            self.expansion = 4\n",
    "        if num_layers == 18:\n",
    "            layers = [2, 2, 2, 2]\n",
    "        elif num_layers == 34 or num_layers == 50:\n",
    "            layers = [3, 4, 6, 3]\n",
    "        elif num_layers == 101:\n",
    "            layers = [3, 4, 23, 3]\n",
    "        else:\n",
    "            layers = [3, 8, 36, 3]\n",
    "        self.in_channels = 64\n",
    "        self.conv1 = nn.Conv1d(image_channels, 64, kernel_size=7, stride=2, padding=0)\n",
    "        self.bn1 = nn.BatchNorm1d(64)\n",
    "        self.relu = nn.ReLU()\n",
    "        self.maxpool = nn.MaxPool1d(kernel_size=3, stride=2, padding=0)\n",
    "\n",
    "        # ResNetLayers\n",
    "        self.layer1 = self.make_layers(num_layers, block, layers[0], intermediate_channels=64, stride=1)\n",
    "        self.layer2 = self.make_layers(num_layers, block, layers[1], intermediate_channels=128, stride=2)\n",
    "        self.layer3 = self.make_layers(num_layers, block, layers[2], intermediate_channels=256, stride=2)\n",
    "        self.layer4 = self.make_layers(num_layers, block, layers[3], intermediate_channels=512, stride=2)\n",
    "\n",
    "        self.conv5 = nn.Conv1d(in_channels=512, out_channels=512, kernel_size=3, stride=2, padding=1)\n",
    "        self.bn5 = nn.BatchNorm1d(512)\n",
    "        self.relu = nn.ReLU()\n",
    "        self.conv6 = nn.Conv1d(in_channels=512, out_channels=512, kernel_size=3, stride=2, padding=1)\n",
    "        self.bn6 = nn.BatchNorm1d(512)\n",
    "        self.relu = nn.ReLU()\n",
    "        self.conv7 = nn.Conv1d(in_channels=512, out_channels=512, kernel_size=3, stride=2, padding=1)\n",
    "        self.bn7 = nn.BatchNorm1d(512)\n",
    "        self.relu = nn.ReLU()\n",
    "        self.conv8 = nn.Conv1d(in_channels=512, out_channels=512, kernel_size=3, stride=2, padding=0)\n",
    "        self.bn8 = nn.BatchNorm1d(512)\n",
    "        self.relu = nn.ReLU()\n",
    "        self.conv9 = nn.Conv1d(in_channels=512, out_channels=512, kernel_size=3, stride=2, padding=0)\n",
    "        self.bn9 = nn.BatchNorm1d(512)\n",
    "        self.relu = nn.ReLU()\n",
    "#         self.avgpool = nn.AdaptiveAvgPool1d(4)\n",
    "        self.flatten = nn.Flatten()\n",
    "        self.fc = nn.Linear(15360, num_classes)\n",
    "        \n",
    "\n",
    "    def forward(self, x):\n",
    "        x = self.conv1(x)\n",
    "        x = self.bn1(x)\n",
    "        x = self.relu(x)\n",
    "        x = self.maxpool(x)\n",
    "\n",
    "        x = self.layer1(x)\n",
    "        x = self.layer2(x)\n",
    "        x = self.layer3(x)\n",
    "        x = self.layer4(x)\n",
    "        \n",
    "        x = self.conv5(x)\n",
    "        x = self.bn5(x)\n",
    "        x = self.relu(x)\n",
    "        x = self.conv6(x)\n",
    "        x = self.bn6(x)\n",
    "        x = self.relu(x)\n",
    "        x = self.conv7(x)\n",
    "        x = self.bn7(x)\n",
    "        x = self.relu(x)\n",
    "        x = self.conv8(x)\n",
    "        x = self.bn8(x)\n",
    "        x = self.relu(x)\n",
    "        x = self.conv9(x)\n",
    "        x = self.bn9(x)\n",
    "        x = self.relu(x)\n",
    "#         x = self.avgpool(x)\n",
    "        x = self.flatten(x)\n",
    "        x = self.fc(x)\n",
    "        return x\n",
    "\n",
    "    def make_layers(self, num_layers, block, num_residual_blocks, intermediate_channels, stride):\n",
    "        layers = []\n",
    "\n",
    "        identity_downsample = nn.Sequential(nn.Conv1d(self.in_channels, intermediate_channels*self.expansion, kernel_size=1, stride=stride),\n",
    "                                            nn.BatchNorm1d(intermediate_channels*self.expansion))\n",
    "        layers.append(block(num_layers, self.in_channels, intermediate_channels, identity_downsample, stride))\n",
    "        self.in_channels = intermediate_channels * self.expansion # 256\n",
    "        for i in range(num_residual_blocks - 1):\n",
    "            layers.append(block(num_layers, self.in_channels, intermediate_channels)) # 256 -> 64, 64*4 (256) again\n",
    "        return nn.Sequential(*layers)\n",
    "\n",
    "\n",
    "def ResNet18(img_channels=1, num_classes=1000):\n",
    "    return ResNet(18, Block, img_channels, num_classes)\n",
    "\n",
    "\n",
    "def ResNet34(img_channels=1, num_classes=1000):\n",
    "    return ResNet(34, Block, img_channels, num_classes)\n",
    "\n",
    "\n",
    "def ResNet50(img_channels=1, num_classes=1000):\n",
    "    return ResNet(50, Block, img_channels, num_classes)\n",
    "\n",
    "\n",
    "def ResNet101(img_channels=1, num_classes=1000):\n",
    "    return ResNet(101, Block, img_channels, num_classes)\n",
    "\n",
    "\n",
    "def ResNet152(img_channels=1, num_classes=1000):\n",
    "    return ResNet(152, Block, img_channels, num_classes)\n",
    "\n",
    "\n",
    "model = ResNet18(img_channels=1, num_classes=512).to(device)\n",
    "print(model)"
   ]
  },
  {
   "cell_type": "code",
   "execution_count": 9,
   "id": "630e3d7e",
   "metadata": {
    "execution": {
     "iopub.execute_input": "2022-03-09T15:47:44.226150Z",
     "iopub.status.busy": "2022-03-09T15:47:44.225414Z",
     "iopub.status.idle": "2022-03-09T15:47:44.229816Z",
     "shell.execute_reply": "2022-03-09T15:47:44.229286Z",
     "shell.execute_reply.started": "2022-03-09T13:58:21.140855Z"
    },
    "papermill": {
     "duration": 0.043597,
     "end_time": "2022-03-09T15:47:44.229961",
     "exception": false,
     "start_time": "2022-03-09T15:47:44.186364",
     "status": "completed"
    },
    "tags": []
   },
   "outputs": [],
   "source": [
    "# a = torch.rand(32,32000).to(device)\n",
    "# b = model(a.unsqueeze(1))\n",
    "# b.shape"
   ]
  },
  {
   "cell_type": "code",
   "execution_count": 10,
   "id": "a010dd6a",
   "metadata": {
    "execution": {
     "iopub.execute_input": "2022-03-09T15:47:44.322181Z",
     "iopub.status.busy": "2022-03-09T15:47:44.320570Z",
     "iopub.status.idle": "2022-03-09T15:47:44.327357Z",
     "shell.execute_reply": "2022-03-09T15:47:44.325723Z",
     "shell.execute_reply.started": "2022-03-09T13:58:21.146377Z"
    },
    "papermill": {
     "duration": 0.062518,
     "end_time": "2022-03-09T15:47:44.327493",
     "exception": false,
     "start_time": "2022-03-09T15:47:44.264975",
     "status": "completed"
    },
    "tags": []
   },
   "outputs": [
    {
     "name": "stdout",
     "output_type": "stream",
     "text": [
      "+---------------------------------------+------------+\n",
      "|                Modules                | Parameters |\n",
      "+---------------------------------------+------------+\n",
      "|              conv1.weight             |    448     |\n",
      "|               conv1.bias              |     64     |\n",
      "|               bn1.weight              |     64     |\n",
      "|                bn1.bias               |     64     |\n",
      "|         layer1.0.conv1.weight         |    4096    |\n",
      "|          layer1.0.conv1.bias          |     64     |\n",
      "|          layer1.0.bn1.weight          |     64     |\n",
      "|           layer1.0.bn1.bias           |     64     |\n",
      "|         layer1.0.conv2.weight         |   12288    |\n",
      "|          layer1.0.conv2.bias          |     64     |\n",
      "|          layer1.0.bn2.weight          |     64     |\n",
      "|           layer1.0.bn2.bias           |     64     |\n",
      "|         layer1.0.conv3.weight         |    4096    |\n",
      "|          layer1.0.conv3.bias          |     64     |\n",
      "|          layer1.0.bn3.weight          |     64     |\n",
      "|           layer1.0.bn3.bias           |     64     |\n",
      "| layer1.0.identity_downsample.0.weight |    4096    |\n",
      "|  layer1.0.identity_downsample.0.bias  |     64     |\n",
      "| layer1.0.identity_downsample.1.weight |     64     |\n",
      "|  layer1.0.identity_downsample.1.bias  |     64     |\n",
      "|         layer1.1.conv1.weight         |    4096    |\n",
      "|          layer1.1.conv1.bias          |     64     |\n",
      "|          layer1.1.bn1.weight          |     64     |\n",
      "|           layer1.1.bn1.bias           |     64     |\n",
      "|         layer1.1.conv2.weight         |   12288    |\n",
      "|          layer1.1.conv2.bias          |     64     |\n",
      "|          layer1.1.bn2.weight          |     64     |\n",
      "|           layer1.1.bn2.bias           |     64     |\n",
      "|         layer1.1.conv3.weight         |    4096    |\n",
      "|          layer1.1.conv3.bias          |     64     |\n",
      "|          layer1.1.bn3.weight          |     64     |\n",
      "|           layer1.1.bn3.bias           |     64     |\n",
      "|         layer2.0.conv1.weight         |    8192    |\n",
      "|          layer2.0.conv1.bias          |    128     |\n",
      "|          layer2.0.bn1.weight          |    128     |\n",
      "|           layer2.0.bn1.bias           |    128     |\n",
      "|         layer2.0.conv2.weight         |   24576    |\n",
      "|          layer2.0.conv2.bias          |    128     |\n",
      "|          layer2.0.bn2.weight          |    128     |\n",
      "|           layer2.0.bn2.bias           |    128     |\n",
      "|         layer2.0.conv3.weight         |   16384    |\n",
      "|          layer2.0.conv3.bias          |    128     |\n",
      "|          layer2.0.bn3.weight          |    128     |\n",
      "|           layer2.0.bn3.bias           |    128     |\n",
      "| layer2.0.identity_downsample.0.weight |    8192    |\n",
      "|  layer2.0.identity_downsample.0.bias  |    128     |\n",
      "| layer2.0.identity_downsample.1.weight |    128     |\n",
      "|  layer2.0.identity_downsample.1.bias  |    128     |\n",
      "|         layer2.1.conv1.weight         |   16384    |\n",
      "|          layer2.1.conv1.bias          |    128     |\n",
      "|          layer2.1.bn1.weight          |    128     |\n",
      "|           layer2.1.bn1.bias           |    128     |\n",
      "|         layer2.1.conv2.weight         |   49152    |\n",
      "|          layer2.1.conv2.bias          |    128     |\n",
      "|          layer2.1.bn2.weight          |    128     |\n",
      "|           layer2.1.bn2.bias           |    128     |\n",
      "|         layer2.1.conv3.weight         |   16384    |\n",
      "|          layer2.1.conv3.bias          |    128     |\n",
      "|          layer2.1.bn3.weight          |    128     |\n",
      "|           layer2.1.bn3.bias           |    128     |\n",
      "|         layer3.0.conv1.weight         |   32768    |\n",
      "|          layer3.0.conv1.bias          |    256     |\n",
      "|          layer3.0.bn1.weight          |    256     |\n",
      "|           layer3.0.bn1.bias           |    256     |\n",
      "|         layer3.0.conv2.weight         |   98304    |\n",
      "|          layer3.0.conv2.bias          |    256     |\n",
      "|          layer3.0.bn2.weight          |    256     |\n",
      "|           layer3.0.bn2.bias           |    256     |\n",
      "|         layer3.0.conv3.weight         |   65536    |\n",
      "|          layer3.0.conv3.bias          |    256     |\n",
      "|          layer3.0.bn3.weight          |    256     |\n",
      "|           layer3.0.bn3.bias           |    256     |\n",
      "| layer3.0.identity_downsample.0.weight |   32768    |\n",
      "|  layer3.0.identity_downsample.0.bias  |    256     |\n",
      "| layer3.0.identity_downsample.1.weight |    256     |\n",
      "|  layer3.0.identity_downsample.1.bias  |    256     |\n",
      "|         layer3.1.conv1.weight         |   65536    |\n",
      "|          layer3.1.conv1.bias          |    256     |\n",
      "|          layer3.1.bn1.weight          |    256     |\n",
      "|           layer3.1.bn1.bias           |    256     |\n",
      "|         layer3.1.conv2.weight         |   196608   |\n",
      "|          layer3.1.conv2.bias          |    256     |\n",
      "|          layer3.1.bn2.weight          |    256     |\n",
      "|           layer3.1.bn2.bias           |    256     |\n",
      "|         layer3.1.conv3.weight         |   65536    |\n",
      "|          layer3.1.conv3.bias          |    256     |\n",
      "|          layer3.1.bn3.weight          |    256     |\n",
      "|           layer3.1.bn3.bias           |    256     |\n",
      "|         layer4.0.conv1.weight         |   131072   |\n",
      "|          layer4.0.conv1.bias          |    512     |\n",
      "|          layer4.0.bn1.weight          |    512     |\n",
      "|           layer4.0.bn1.bias           |    512     |\n",
      "|         layer4.0.conv2.weight         |   393216   |\n",
      "|          layer4.0.conv2.bias          |    512     |\n",
      "|          layer4.0.bn2.weight          |    512     |\n",
      "|           layer4.0.bn2.bias           |    512     |\n",
      "|         layer4.0.conv3.weight         |   262144   |\n",
      "|          layer4.0.conv3.bias          |    512     |\n",
      "|          layer4.0.bn3.weight          |    512     |\n",
      "|           layer4.0.bn3.bias           |    512     |\n",
      "| layer4.0.identity_downsample.0.weight |   131072   |\n",
      "|  layer4.0.identity_downsample.0.bias  |    512     |\n",
      "| layer4.0.identity_downsample.1.weight |    512     |\n",
      "|  layer4.0.identity_downsample.1.bias  |    512     |\n",
      "|         layer4.1.conv1.weight         |   262144   |\n",
      "|          layer4.1.conv1.bias          |    512     |\n",
      "|          layer4.1.bn1.weight          |    512     |\n",
      "|           layer4.1.bn1.bias           |    512     |\n",
      "|         layer4.1.conv2.weight         |   786432   |\n",
      "|          layer4.1.conv2.bias          |    512     |\n",
      "|          layer4.1.bn2.weight          |    512     |\n",
      "|           layer4.1.bn2.bias           |    512     |\n",
      "|         layer4.1.conv3.weight         |   262144   |\n",
      "|          layer4.1.conv3.bias          |    512     |\n",
      "|          layer4.1.bn3.weight          |    512     |\n",
      "|           layer4.1.bn3.bias           |    512     |\n",
      "|              conv5.weight             |   786432   |\n",
      "|               conv5.bias              |    512     |\n",
      "|               bn5.weight              |    512     |\n",
      "|                bn5.bias               |    512     |\n",
      "|              conv6.weight             |   786432   |\n",
      "|               conv6.bias              |    512     |\n",
      "|               bn6.weight              |    512     |\n",
      "|                bn6.bias               |    512     |\n",
      "|              conv7.weight             |   786432   |\n",
      "|               conv7.bias              |    512     |\n",
      "|               bn7.weight              |    512     |\n",
      "|                bn7.bias               |    512     |\n",
      "|              conv8.weight             |   786432   |\n",
      "|               conv8.bias              |    512     |\n",
      "|               bn8.weight              |    512     |\n",
      "|                bn8.bias               |    512     |\n",
      "|              conv9.weight             |   786432   |\n",
      "|               conv9.bias              |    512     |\n",
      "|               bn9.weight              |    512     |\n",
      "|                bn9.bias               |    512     |\n",
      "|               fc.weight               |  7864320   |\n",
      "|                fc.bias                |    512     |\n",
      "+---------------------------------------+------------+\n",
      "Total Trainable Params: 14795072\n"
     ]
    },
    {
     "data": {
      "text/plain": [
       "14795072"
      ]
     },
     "execution_count": 10,
     "metadata": {},
     "output_type": "execute_result"
    }
   ],
   "source": [
    "from prettytable import PrettyTable\n",
    "\n",
    "def count_parameters(model):\n",
    "    table = PrettyTable([\"Modules\", \"Parameters\"])\n",
    "    total_params = 0\n",
    "    for name, parameter in model.named_parameters():\n",
    "        if not parameter.requires_grad: continue\n",
    "        param = parameter.numel()\n",
    "        table.add_row([name, param])\n",
    "        total_params+=param\n",
    "    print(table)\n",
    "    print(f\"Total Trainable Params: {total_params}\")\n",
    "    return total_params\n",
    "    \n",
    "count_parameters(model)"
   ]
  },
  {
   "cell_type": "code",
   "execution_count": 11,
   "id": "d75c2468",
   "metadata": {
    "execution": {
     "iopub.execute_input": "2022-03-09T15:47:44.416989Z",
     "iopub.status.busy": "2022-03-09T15:47:44.416092Z",
     "iopub.status.idle": "2022-03-09T15:47:44.420522Z",
     "shell.execute_reply": "2022-03-09T15:47:44.421235Z"
    },
    "papermill": {
     "duration": 0.059777,
     "end_time": "2022-03-09T15:47:44.421463",
     "exception": false,
     "start_time": "2022-03-09T15:47:44.361686",
     "status": "completed"
    },
    "tags": []
   },
   "outputs": [],
   "source": [
    "class SupConLoss(nn.Module):\n",
    "    \"\"\"Supervised Contrastive Learning: https://arxiv.org/pdf/2004.11362.pdf.\n",
    "    It also supports the unsupervised contrastive loss in SimCLR\"\"\"\n",
    "    def __init__(self, temperature=0.07, contrast_mode='all',\n",
    "                 base_temperature=0.07):\n",
    "        super(SupConLoss, self).__init__()\n",
    "        self.temperature = temperature\n",
    "        self.contrast_mode = contrast_mode\n",
    "        self.base_temperature = base_temperature\n",
    "\n",
    "    def forward(self, features, labels=None, mask=None):\n",
    "        \"\"\"Compute loss for model. If both `labels` and `mask` are None,\n",
    "        it degenerates to SimCLR unsupervised loss:\n",
    "        https://arxiv.org/pdf/2002.05709.pdf\n",
    "        Args:\n",
    "            features: hidden vector of shape [bsz, n_views, ...].\n",
    "            labels: ground truth of shape [bsz].\n",
    "            mask: contrastive mask of shape [bsz, bsz], mask_{i,j}=1 if sample j\n",
    "                has the same class as sample i. Can be asymmetric.\n",
    "        Returns:\n",
    "            A loss scalar.\n",
    "        \"\"\"\n",
    "        device = (torch.device('cuda')\n",
    "                  if features.is_cuda\n",
    "                  else torch.device('cpu'))\n",
    "\n",
    "        if len(features.shape) < 3:\n",
    "            raise ValueError('`features` needs to be [bsz, n_views, ...],'\n",
    "                             'at least 3 dimensions are required')\n",
    "        if len(features.shape) > 3:\n",
    "            features = features.view(features.shape[0], features.shape[1], -1)\n",
    "\n",
    "        batch_size = features.shape[0]\n",
    "        if labels is not None and mask is not None:\n",
    "            raise ValueError('Cannot define both `labels` and `mask`')\n",
    "        elif labels is None and mask is None:\n",
    "            mask = torch.eye(batch_size, dtype=torch.float32).to(device)\n",
    "        elif labels is not None:\n",
    "            labels = labels.contiguous().view(-1, 1)\n",
    "            if labels.shape[0] != batch_size:\n",
    "                raise ValueError('Num of labels does not match num of features')\n",
    "            mask = torch.eq(labels, labels.T).float().to(device)\n",
    "        else:\n",
    "            mask = mask.float().to(device)\n",
    "\n",
    "        contrast_count = features.shape[1]\n",
    "        contrast_feature = torch.cat(torch.unbind(features, dim=1), dim=0)\n",
    "        if self.contrast_mode == 'one':\n",
    "            anchor_feature = features[:, 0]\n",
    "            anchor_count = 1\n",
    "        elif self.contrast_mode == 'all':\n",
    "            anchor_feature = contrast_feature\n",
    "            anchor_count = contrast_count\n",
    "        else:\n",
    "            raise ValueError('Unknown mode: {}'.format(self.contrast_mode))\n",
    "\n",
    "        # compute logits\n",
    "        anchor_dot_contrast = torch.div(\n",
    "            torch.matmul(anchor_feature, contrast_feature.T),\n",
    "            self.temperature)\n",
    "        # for numerical stability\n",
    "        logits_max, _ = torch.max(anchor_dot_contrast, dim=1, keepdim=True)\n",
    "        logits = anchor_dot_contrast - logits_max.detach()\n",
    "\n",
    "        # tile mask\n",
    "        mask = mask.repeat(anchor_count, contrast_count)\n",
    "        # mask-out self-contrast cases\n",
    "        logits_mask = torch.scatter(\n",
    "            torch.ones_like(mask),\n",
    "            1,\n",
    "            torch.arange(batch_size * anchor_count).view(-1, 1).to(device),\n",
    "            0\n",
    "        )\n",
    "        mask = mask * logits_mask\n",
    "        \n",
    "        # compute log_prob\n",
    "        exp_logits = torch.exp(logits) * logits_mask\n",
    "        log_prob = logits - torch.log(exp_logits.sum(1, keepdim=True))\n",
    "       \n",
    "        # compute mean of log-likelihood over positive\n",
    "        mean_log_prob_pos = (mask * log_prob).sum(1) / mask.sum(1)\n",
    "     \n",
    "        # loss\n",
    "        loss = - (self.temperature / self.base_temperature) * mean_log_prob_pos\n",
    "        loss = loss.view(anchor_count, batch_size).mean()\n",
    "\n",
    "        return loss"
   ]
  },
  {
   "cell_type": "code",
   "execution_count": 12,
   "id": "5b0920a2",
   "metadata": {
    "execution": {
     "iopub.execute_input": "2022-03-09T15:47:44.505000Z",
     "iopub.status.busy": "2022-03-09T15:47:44.503859Z",
     "iopub.status.idle": "2022-03-09T15:47:44.506241Z",
     "shell.execute_reply": "2022-03-09T15:47:44.506887Z",
     "shell.execute_reply.started": "2022-03-09T13:58:21.170177Z"
    },
    "papermill": {
     "duration": 0.05059,
     "end_time": "2022-03-09T15:47:44.507074",
     "exception": false,
     "start_time": "2022-03-09T15:47:44.456484",
     "status": "completed"
    },
    "tags": []
   },
   "outputs": [],
   "source": [
    "class ContrastiveLoss(nn.Module):\n",
    "    def __init__(self, batch_size, temperature=0.5):\n",
    "        super().__init__()\n",
    "        self.batch_size = batch_size\n",
    "        self.register_buffer(\"temperature\", torch.tensor(temperature))\n",
    "        self.register_buffer(\"negatives_mask\", ((~torch.eye(batch_size * 2, batch_size * 2, dtype=bool)).float()).to(device))\n",
    "            \n",
    "    def forward(self, emb_i, emb_j, id_array):\n",
    "        \"\"\"\n",
    "        emb_i and emb_j are batches of embeddings, where corresponding indices are pairs\n",
    "        z_i, z_j as per SimCLR paper\n",
    "        \"\"\"\n",
    "        z_i = F.normalize(emb_i, dim=1)\n",
    "        z_j = F.normalize(emb_j, dim=1)\n",
    "\n",
    "        representations = torch.cat([z_i, z_j], dim=0)\n",
    "        similarity_matrix = F.cosine_similarity(representations.unsqueeze(1), representations.unsqueeze(0), dim=2)\n",
    "#         print(similarity_matrix)\n",
    "        \n",
    "        idrepres = torch.cat([id_array,id_array], dim=0)\n",
    "        idrepres = torch.broadcast_to(idrepres, (batch_size*2,batch_size*2))\n",
    "#         print(idrepres)\n",
    "#         print(idrepres.shape)\n",
    "        idsim_matrix = ((torch.eq(idrepres, idrepres.T)).float()).to(device)\n",
    "#         print(idsim_matrix)\n",
    "        idsim_matrix = self.negatives_mask * idsim_matrix\n",
    "#         print(idsim_matrix)\n",
    "\n",
    "        cardinality = torch.sum(idsim_matrix, dim=0)\n",
    "#         print(cardinality)\n",
    "\n",
    "        numerator = torch.exp((idsim_matrix * similarity_matrix)/ self.temperature)\n",
    "#         print(numerator)\n",
    "        denominator = self.negatives_mask * torch.exp(similarity_matrix / self.temperature)\n",
    "#         print(denominator)\n",
    "\n",
    "        loss_partial = torch.log(torch.div(numerator, torch.sum(denominator, dim=0)))\n",
    "#         print(loss_partial)\n",
    "        loss_partial = loss_partial * idsim_matrix\n",
    "#         print(loss_partial)\n",
    "\n",
    "        loss_partial = torch.sum(loss_partial, dim=0)\n",
    "#         print(loss_partial)\n",
    "        loss_partial = -torch.div(loss_partial, cardinality)\n",
    "#         print(loss_partial)\n",
    "\n",
    "        loss = torch.sum(loss_partial) / (2 * self.batch_size)\n",
    "        return loss"
   ]
  },
  {
   "cell_type": "code",
   "execution_count": 13,
   "id": "25a82d7f",
   "metadata": {
    "execution": {
     "iopub.execute_input": "2022-03-09T15:47:44.585197Z",
     "iopub.status.busy": "2022-03-09T15:47:44.584417Z",
     "iopub.status.idle": "2022-03-09T15:47:44.598082Z",
     "shell.execute_reply": "2022-03-09T15:47:44.597493Z",
     "shell.execute_reply.started": "2022-03-09T13:58:39.825215Z"
    },
    "papermill": {
     "duration": 0.055604,
     "end_time": "2022-03-09T15:47:44.598221",
     "exception": false,
     "start_time": "2022-03-09T15:47:44.542617",
     "status": "completed"
    },
    "tags": []
   },
   "outputs": [],
   "source": [
    "loss_fn = ContrastiveLoss(batch_size, 0.07)\n",
    "loss_fn2 = SupConLoss(temperature=0.07)\n",
    "optimizer = torch.optim.Adam(model.parameters(), lr=1e-3)\n",
    "scheduler = torch.optim.lr_scheduler.ReduceLROnPlateau(optimizer, 'min',factor=0.5,patience=5,verbose=True)"
   ]
  },
  {
   "cell_type": "code",
   "execution_count": 14,
   "id": "0db975d8",
   "metadata": {
    "execution": {
     "iopub.execute_input": "2022-03-09T15:47:44.672904Z",
     "iopub.status.busy": "2022-03-09T15:47:44.671849Z",
     "iopub.status.idle": "2022-03-09T15:47:44.674213Z",
     "shell.execute_reply": "2022-03-09T15:47:44.674717Z",
     "shell.execute_reply.started": "2022-03-09T13:58:21.360498Z"
    },
    "papermill": {
     "duration": 0.04124,
     "end_time": "2022-03-09T15:47:44.674914",
     "exception": false,
     "start_time": "2022-03-09T15:47:44.633674",
     "status": "completed"
    },
    "tags": []
   },
   "outputs": [],
   "source": [
    "# a = torch.rand([6,512])\n",
    "# b = torch.rand([6])"
   ]
  },
  {
   "cell_type": "code",
   "execution_count": 15,
   "id": "e8bd50ef",
   "metadata": {
    "execution": {
     "iopub.execute_input": "2022-03-09T15:47:44.747798Z",
     "iopub.status.busy": "2022-03-09T15:47:44.746724Z",
     "iopub.status.idle": "2022-03-09T15:47:44.749424Z",
     "shell.execute_reply": "2022-03-09T15:47:44.749998Z",
     "shell.execute_reply.started": "2022-03-09T13:58:21.362579Z"
    },
    "papermill": {
     "duration": 0.042181,
     "end_time": "2022-03-09T15:47:44.750162",
     "exception": false,
     "start_time": "2022-03-09T15:47:44.707981",
     "status": "completed"
    },
    "tags": []
   },
   "outputs": [],
   "source": [
    "# loss = loss_fn(a,a,b)"
   ]
  },
  {
   "cell_type": "code",
   "execution_count": null,
   "id": "9209fc1c",
   "metadata": {
    "execution": {
     "iopub.execute_input": "2022-03-09T13:58:35.143912Z",
     "iopub.status.busy": "2022-03-09T13:58:35.143637Z",
     "iopub.status.idle": "2022-03-09T13:58:35.160792Z",
     "shell.execute_reply": "2022-03-09T13:58:35.160077Z",
     "shell.execute_reply.started": "2022-03-09T13:58:35.143881Z"
    },
    "papermill": {
     "duration": 0.034458,
     "end_time": "2022-03-09T15:47:44.819667",
     "exception": false,
     "start_time": "2022-03-09T15:47:44.785209",
     "status": "completed"
    },
    "tags": []
   },
   "outputs": [],
   "source": []
  },
  {
   "cell_type": "code",
   "execution_count": 16,
   "id": "707759d2",
   "metadata": {
    "execution": {
     "iopub.execute_input": "2022-03-09T15:47:44.894459Z",
     "iopub.status.busy": "2022-03-09T15:47:44.893528Z",
     "iopub.status.idle": "2022-03-09T15:47:44.896376Z",
     "shell.execute_reply": "2022-03-09T15:47:44.896925Z",
     "shell.execute_reply.started": "2022-03-09T13:58:45.035322Z"
    },
    "papermill": {
     "duration": 0.043449,
     "end_time": "2022-03-09T15:47:44.897101",
     "exception": false,
     "start_time": "2022-03-09T15:47:44.853652",
     "status": "completed"
    },
    "tags": []
   },
   "outputs": [],
   "source": [
    "cost_validation = []\n",
    "cost_train = []\n",
    "# similarity_score = []\n",
    "min_loss = 7.011\n",
    "p = 0\n",
    "s1 = []\n",
    "s2 = []\n",
    "s3 = []\n",
    "s4 = []"
   ]
  },
  {
   "cell_type": "code",
   "execution_count": 17,
   "id": "6bd1b312",
   "metadata": {
    "execution": {
     "iopub.execute_input": "2022-03-09T15:47:44.971021Z",
     "iopub.status.busy": "2022-03-09T15:47:44.969985Z",
     "iopub.status.idle": "2022-03-09T15:47:44.981318Z",
     "shell.execute_reply": "2022-03-09T15:47:44.980724Z",
     "shell.execute_reply.started": "2022-03-09T13:58:49.169137Z"
    },
    "papermill": {
     "duration": 0.049793,
     "end_time": "2022-03-09T15:47:44.981459",
     "exception": false,
     "start_time": "2022-03-09T15:47:44.931666",
     "status": "completed"
    },
    "tags": []
   },
   "outputs": [],
   "source": [
    "def train(dataloader, model, loss_fn, optimizer):\n",
    "    size = len(dataloader.dataset)\n",
    "    num_batches = len(dataloader)\n",
    "    accum_iter = 64\n",
    "    loss_train = 0.0\n",
    "    model.train()\n",
    "    for batch, (X, y, z) in enumerate(dataloader):\n",
    "        X, y, z = X.to(device), y.to(device), z.to(device)\n",
    "        # Compute prediction error\n",
    "        with torch.set_grad_enabled(True):\n",
    "            \n",
    "            pred_anch = model(X.unsqueeze(1))\n",
    "            pred_posi = model(z.unsqueeze(1))\n",
    "#             loss1 = loss_fn(pred_anch, pred_posi, y)\n",
    "            z_i = F.normalize(pred_anch , dim=1)\n",
    "            z_j = F.normalize(pred_posi, dim=1)\n",
    "            projX = z_i.view(z_i.shape[0],1,z_i.shape[1])\n",
    "            projY = z_j.view(z_j.shape[0],1,z_j.shape[1])\n",
    "            features = torch.cat([projX, projY], dim=1)\n",
    "            loss = loss_fn2(features, y)\n",
    "#             print(loss1, 'prathamesh')\n",
    "#             print(loss, 'official')\n",
    "            loss_train += loss.item()\n",
    "            loss = loss / accum_iter\n",
    "            # Backpropagation\n",
    "            \n",
    "            loss.backward()\n",
    "            \n",
    "            if ((batch + 1) % accum_iter == 0) or (batch + 1 == len(dataloader)):\n",
    "                optimizer.step()\n",
    "                optimizer.zero_grad()\n",
    "        \n",
    "    loss_train /= num_batches\n",
    "#     print(num_batches)\n",
    "    print(f\"loss_avg_all_batches: {loss_train}\")\n",
    "    return loss_train "
   ]
  },
  {
   "cell_type": "code",
   "execution_count": 18,
   "id": "89904d01",
   "metadata": {
    "execution": {
     "iopub.execute_input": "2022-03-09T15:47:45.059495Z",
     "iopub.status.busy": "2022-03-09T15:47:45.058539Z",
     "iopub.status.idle": "2022-03-09T15:47:45.061124Z",
     "shell.execute_reply": "2022-03-09T15:47:45.061627Z",
     "shell.execute_reply.started": "2022-03-09T13:58:51.383066Z"
    },
    "papermill": {
     "duration": 0.045468,
     "end_time": "2022-03-09T15:47:45.061789",
     "exception": false,
     "start_time": "2022-03-09T15:47:45.016321",
     "status": "completed"
    },
    "tags": []
   },
   "outputs": [],
   "source": [
    "def test(dataloader, model, loss_fn):\n",
    "    size = len(dataloader.dataset)\n",
    "    num_batches = len(dataloader)\n",
    "    model.eval()\n",
    "    test_loss= 0.0\n",
    "    with torch.no_grad():\n",
    "        for batch, (X, y, z) in enumerate(dataloader):\n",
    "            X, y, z = X.to(device), y.to(device), z.to(device)\n",
    "            pred_anch = model(X.unsqueeze(1))\n",
    "            pred_posi = model(z.unsqueeze(1))\n",
    "            test_loss += loss_fn(pred_anch, pred_posi, y).item()\n",
    "#             correct += (pred.argmax(1) == y).type(torch.float).sum().item()\n",
    "\n",
    "    test_loss /= num_batches\n",
    "#     correct /= size\n",
    "    print(f\"Test Error: \\n Avg loss: {test_loss:>8f} \")\n",
    "#     print(num_batches)\n",
    "    return test_loss"
   ]
  },
  {
   "cell_type": "code",
   "execution_count": 19,
   "id": "4ed0cf25",
   "metadata": {
    "execution": {
     "iopub.execute_input": "2022-03-09T15:47:45.146183Z",
     "iopub.status.busy": "2022-03-09T15:47:45.145051Z",
     "iopub.status.idle": "2022-03-09T15:47:45.148350Z",
     "shell.execute_reply": "2022-03-09T15:47:45.147807Z",
     "shell.execute_reply.started": "2022-03-09T13:58:56.280843Z"
    },
    "papermill": {
     "duration": 0.0513,
     "end_time": "2022-03-09T15:47:45.148489",
     "exception": false,
     "start_time": "2022-03-09T15:47:45.097189",
     "status": "completed"
    },
    "tags": []
   },
   "outputs": [],
   "source": [
    "def checker(model):\n",
    "    model.eval()\n",
    "    with torch.no_grad():\n",
    "        \n",
    "        \n",
    "        v1, sr1 = librosa.load('../input/two-dif-voice-and-sentences/Aditya_voice_1.ogg', sr=16000, offset=0.9, duration=2.0)\n",
    "        v2, sr2 = librosa.load('../input/two-dif-voice-and-sentences/Aditya_voice_2.ogg', sr=16000, offset=0.3, duration=2.0)\n",
    "        \n",
    "        d1, srd1 = librosa.load('../input/two-dif-voice-and-sentences/Dikshi_voice_1.ogg', sr=16000, offset=0.3, duration=2.0)\n",
    "        d2, srd2 = librosa.load('../input/two-dif-voice-and-sentences/Dikshit_voice_2.ogg', sr=16000, offset=0.7, duration=2.0)\n",
    "    \n",
    "        v1 = torch.tensor(v1).to(device)\n",
    "        v2 = torch.tensor(v2).to(device)\n",
    "        \n",
    "        d1 = torch.tensor(d1).to(device)\n",
    "        d2 = torch.tensor(d2).to(device)\n",
    "        \n",
    "        v1 = v1.unsqueeze(0)\n",
    "        v2 = v2.unsqueeze(0)\n",
    "        \n",
    "        d1 = d1.unsqueeze(0)\n",
    "        d2 = d2.unsqueeze(0)\n",
    "        \n",
    "        vr1_proj = model(v1.unsqueeze(1))\n",
    "        vr2_proj = model(v2.unsqueeze(1))\n",
    "        \n",
    "        d1_proj = model(d1.unsqueeze(1))\n",
    "        d2_proj = model(d2.unsqueeze(1))\n",
    "\n",
    "    similarity_matrix1 = F.cosine_similarity(vr1_proj, vr2_proj, dim=1)\n",
    "    similarity_matrix2 = F.cosine_similarity(vr1_proj, d1_proj, dim=1)\n",
    "    similarity_matrix3 = F.cosine_similarity(vr2_proj, d2_proj, dim=1)\n",
    "    similarity_matrix4 = F.cosine_similarity(d1_proj, d2_proj, dim=1)\n",
    "\n",
    "    return similarity_matrix1, similarity_matrix2, similarity_matrix3, similarity_matrix4"
   ]
  },
  {
   "cell_type": "code",
   "execution_count": 20,
   "id": "5b45f3cd",
   "metadata": {
    "execution": {
     "iopub.execute_input": "2022-03-09T15:47:45.228482Z",
     "iopub.status.busy": "2022-03-09T15:47:45.227489Z",
     "iopub.status.idle": "2022-03-09T15:47:45.231000Z",
     "shell.execute_reply": "2022-03-09T15:47:45.230403Z",
     "shell.execute_reply.started": "2022-03-09T13:58:21.373303Z"
    },
    "papermill": {
     "duration": 0.046879,
     "end_time": "2022-03-09T15:47:45.231153",
     "exception": false,
     "start_time": "2022-03-09T15:47:45.184274",
     "status": "completed"
    },
    "tags": []
   },
   "outputs": [],
   "source": [
    "# trainer = train(train_dataloader, model, loss_fn, optimizer)\n",
    "# # model1 = model\n",
    "# # optimizer = \n",
    "\n",
    "# lr_finder = FastaiLRFinder()\n",
    "# to_save = {\"model\": model, \"optimizer\": optimizer}\n",
    "\n",
    "# with lr_finder.attach(trainer, to_save=to_save) as trainer_with_lr_finder:\n",
    "#     trainer_with_lr_finder.run(dataloader)\n",
    "\n",
    "# # Get lr_finder results\n",
    "# lr_finder.get_results()\n",
    "\n",
    "# # Plot lr_finder results (requires matplotlib)\n",
    "# lr_finder.plot()\n",
    "\n",
    "# # get lr_finder suggestion for lr\n",
    "# lr_finder.lr_suggestion()"
   ]
  },
  {
   "cell_type": "code",
   "execution_count": 21,
   "id": "f38b9fb1",
   "metadata": {
    "execution": {
     "iopub.execute_input": "2022-03-09T15:47:45.308266Z",
     "iopub.status.busy": "2022-03-09T15:47:45.307188Z",
     "iopub.status.idle": "2022-03-09T15:47:45.310662Z",
     "shell.execute_reply": "2022-03-09T15:47:45.310091Z",
     "shell.execute_reply.started": "2022-03-09T13:58:21.375048Z"
    },
    "papermill": {
     "duration": 0.044024,
     "end_time": "2022-03-09T15:47:45.310817",
     "exception": false,
     "start_time": "2022-03-09T15:47:45.266793",
     "status": "completed"
    },
    "tags": []
   },
   "outputs": [],
   "source": [
    "# v1, sr1 = librosa.load('../input/freinds-voices/sample-000006.mp3', sr=16000, offset=1.0, duration=2.0)\n",
    "# v2, sr2 = librosa.load('../input/freinds-voices/sample-000006.mp3', sr=16000, offset=4.0, duration=2.0)\n",
    "# v1 = torch.tensor(v1)\n",
    "# v2 = torch.tensor(v2)\n",
    "# v1 = v1.unsqueeze(0)\n",
    "# v2 = v2.unsqueeze(0)\n",
    "# v1 = v1.to(device)\n",
    "# v2 = v2.to(device)"
   ]
  },
  {
   "cell_type": "code",
   "execution_count": 22,
   "id": "bd269f92",
   "metadata": {
    "execution": {
     "iopub.execute_input": "2022-03-09T15:47:45.397386Z",
     "iopub.status.busy": "2022-03-09T15:47:45.396495Z",
     "iopub.status.idle": "2022-03-10T01:53:45.089841Z",
     "shell.execute_reply": "2022-03-10T01:53:45.091320Z",
     "shell.execute_reply.started": "2022-03-09T13:59:02.221031Z"
    },
    "papermill": {
     "duration": 36359.744128,
     "end_time": "2022-03-10T01:53:45.091614",
     "exception": false,
     "start_time": "2022-03-09T15:47:45.347486",
     "status": "completed"
    },
    "tags": []
   },
   "outputs": [
    {
     "name": "stdout",
     "output_type": "stream",
     "text": [
      "Epoch 1\n",
      "-------------------------------\n",
      "loss_avg_all_batches: 3.726016509501475\n",
      "Test Error: \n",
      " Avg loss: 3.340184 \n"
     ]
    },
    {
     "name": "stderr",
     "output_type": "stream",
     "text": [
      "/opt/conda/lib/python3.7/site-packages/ipykernel_launcher.py:6: UserWarning: PySoundFile failed. Trying audioread instead.\n",
      "  \n",
      "/opt/conda/lib/python3.7/site-packages/ipykernel_launcher.py:7: UserWarning: PySoundFile failed. Trying audioread instead.\n",
      "  import sys\n",
      "/opt/conda/lib/python3.7/site-packages/ipykernel_launcher.py:9: UserWarning: PySoundFile failed. Trying audioread instead.\n",
      "  if __name__ == '__main__':\n",
      "/opt/conda/lib/python3.7/site-packages/ipykernel_launcher.py:10: UserWarning: PySoundFile failed. Trying audioread instead.\n",
      "  # Remove the CWD from sys.path while we load stuff.\n"
     ]
    },
    {
     "name": "stdout",
     "output_type": "stream",
     "text": [
      "tensor([0.9937], device='cuda:0')\n",
      "tensor([0.9655], device='cuda:0')\n",
      "tensor([0.9458], device='cuda:0')\n",
      "tensor([0.9304], device='cuda:0')\n",
      "#################SAVING_MODEL###################\n",
      "\n",
      "Epoch 2\n",
      "-------------------------------\n",
      "loss_avg_all_batches: 3.0576014103549767\n",
      "Test Error: \n",
      " Avg loss: 2.731271 \n"
     ]
    },
    {
     "name": "stderr",
     "output_type": "stream",
     "text": [
      "/opt/conda/lib/python3.7/site-packages/ipykernel_launcher.py:6: UserWarning: PySoundFile failed. Trying audioread instead.\n",
      "  \n",
      "/opt/conda/lib/python3.7/site-packages/ipykernel_launcher.py:7: UserWarning: PySoundFile failed. Trying audioread instead.\n",
      "  import sys\n",
      "/opt/conda/lib/python3.7/site-packages/ipykernel_launcher.py:9: UserWarning: PySoundFile failed. Trying audioread instead.\n",
      "  if __name__ == '__main__':\n",
      "/opt/conda/lib/python3.7/site-packages/ipykernel_launcher.py:10: UserWarning: PySoundFile failed. Trying audioread instead.\n",
      "  # Remove the CWD from sys.path while we load stuff.\n"
     ]
    },
    {
     "name": "stdout",
     "output_type": "stream",
     "text": [
      "tensor([0.9929], device='cuda:0')\n",
      "tensor([0.9948], device='cuda:0')\n",
      "tensor([0.9793], device='cuda:0')\n",
      "tensor([0.9776], device='cuda:0')\n",
      "#################SAVING_MODEL###################\n",
      "\n",
      "Epoch 3\n",
      "-------------------------------\n",
      "loss_avg_all_batches: 2.32299609407586\n",
      "Test Error: \n",
      " Avg loss: 2.132150 \n"
     ]
    },
    {
     "name": "stderr",
     "output_type": "stream",
     "text": [
      "/opt/conda/lib/python3.7/site-packages/ipykernel_launcher.py:6: UserWarning: PySoundFile failed. Trying audioread instead.\n",
      "  \n",
      "/opt/conda/lib/python3.7/site-packages/ipykernel_launcher.py:7: UserWarning: PySoundFile failed. Trying audioread instead.\n",
      "  import sys\n",
      "/opt/conda/lib/python3.7/site-packages/ipykernel_launcher.py:9: UserWarning: PySoundFile failed. Trying audioread instead.\n",
      "  if __name__ == '__main__':\n",
      "/opt/conda/lib/python3.7/site-packages/ipykernel_launcher.py:10: UserWarning: PySoundFile failed. Trying audioread instead.\n",
      "  # Remove the CWD from sys.path while we load stuff.\n"
     ]
    },
    {
     "name": "stdout",
     "output_type": "stream",
     "text": [
      "tensor([0.9905], device='cuda:0')\n",
      "tensor([0.9690], device='cuda:0')\n",
      "tensor([0.9460], device='cuda:0')\n",
      "tensor([0.9788], device='cuda:0')\n",
      "#################SAVING_MODEL###################\n",
      "\n",
      "Epoch 4\n",
      "-------------------------------\n",
      "loss_avg_all_batches: 1.9446493146601955\n",
      "Test Error: \n",
      " Avg loss: 1.853043 \n"
     ]
    },
    {
     "name": "stderr",
     "output_type": "stream",
     "text": [
      "/opt/conda/lib/python3.7/site-packages/ipykernel_launcher.py:6: UserWarning: PySoundFile failed. Trying audioread instead.\n",
      "  \n",
      "/opt/conda/lib/python3.7/site-packages/ipykernel_launcher.py:7: UserWarning: PySoundFile failed. Trying audioread instead.\n",
      "  import sys\n",
      "/opt/conda/lib/python3.7/site-packages/ipykernel_launcher.py:9: UserWarning: PySoundFile failed. Trying audioread instead.\n",
      "  if __name__ == '__main__':\n",
      "/opt/conda/lib/python3.7/site-packages/ipykernel_launcher.py:10: UserWarning: PySoundFile failed. Trying audioread instead.\n",
      "  # Remove the CWD from sys.path while we load stuff.\n"
     ]
    },
    {
     "name": "stdout",
     "output_type": "stream",
     "text": [
      "tensor([0.9934], device='cuda:0')\n",
      "tensor([0.9564], device='cuda:0')\n",
      "tensor([0.9680], device='cuda:0')\n",
      "tensor([0.9864], device='cuda:0')\n",
      "#################SAVING_MODEL###################\n",
      "\n",
      "Epoch 5\n",
      "-------------------------------\n",
      "loss_avg_all_batches: 1.6906881002134257\n",
      "Test Error: \n",
      " Avg loss: 1.555262 \n"
     ]
    },
    {
     "name": "stderr",
     "output_type": "stream",
     "text": [
      "/opt/conda/lib/python3.7/site-packages/ipykernel_launcher.py:6: UserWarning: PySoundFile failed. Trying audioread instead.\n",
      "  \n",
      "/opt/conda/lib/python3.7/site-packages/ipykernel_launcher.py:7: UserWarning: PySoundFile failed. Trying audioread instead.\n",
      "  import sys\n",
      "/opt/conda/lib/python3.7/site-packages/ipykernel_launcher.py:9: UserWarning: PySoundFile failed. Trying audioread instead.\n",
      "  if __name__ == '__main__':\n",
      "/opt/conda/lib/python3.7/site-packages/ipykernel_launcher.py:10: UserWarning: PySoundFile failed. Trying audioread instead.\n",
      "  # Remove the CWD from sys.path while we load stuff.\n"
     ]
    },
    {
     "name": "stdout",
     "output_type": "stream",
     "text": [
      "tensor([0.9931], device='cuda:0')\n",
      "tensor([0.9279], device='cuda:0')\n",
      "tensor([0.9633], device='cuda:0')\n",
      "tensor([0.9780], device='cuda:0')\n",
      "#################SAVING_MODEL###################\n",
      "\n",
      "Epoch 6\n",
      "-------------------------------\n",
      "loss_avg_all_batches: 1.2209528591827856\n",
      "Test Error: \n",
      " Avg loss: 1.097873 \n"
     ]
    },
    {
     "name": "stderr",
     "output_type": "stream",
     "text": [
      "/opt/conda/lib/python3.7/site-packages/ipykernel_launcher.py:6: UserWarning: PySoundFile failed. Trying audioread instead.\n",
      "  \n",
      "/opt/conda/lib/python3.7/site-packages/ipykernel_launcher.py:7: UserWarning: PySoundFile failed. Trying audioread instead.\n",
      "  import sys\n",
      "/opt/conda/lib/python3.7/site-packages/ipykernel_launcher.py:9: UserWarning: PySoundFile failed. Trying audioread instead.\n",
      "  if __name__ == '__main__':\n",
      "/opt/conda/lib/python3.7/site-packages/ipykernel_launcher.py:10: UserWarning: PySoundFile failed. Trying audioread instead.\n",
      "  # Remove the CWD from sys.path while we load stuff.\n"
     ]
    },
    {
     "name": "stdout",
     "output_type": "stream",
     "text": [
      "tensor([0.9846], device='cuda:0')\n",
      "tensor([0.9688], device='cuda:0')\n",
      "tensor([0.9604], device='cuda:0')\n",
      "tensor([0.9843], device='cuda:0')\n",
      "#################SAVING_MODEL###################\n",
      "\n",
      "Epoch 7\n",
      "-------------------------------\n",
      "loss_avg_all_batches: 0.8738613646860802\n",
      "Test Error: \n",
      " Avg loss: 0.850247 \n"
     ]
    },
    {
     "name": "stderr",
     "output_type": "stream",
     "text": [
      "/opt/conda/lib/python3.7/site-packages/ipykernel_launcher.py:6: UserWarning: PySoundFile failed. Trying audioread instead.\n",
      "  \n",
      "/opt/conda/lib/python3.7/site-packages/ipykernel_launcher.py:7: UserWarning: PySoundFile failed. Trying audioread instead.\n",
      "  import sys\n",
      "/opt/conda/lib/python3.7/site-packages/ipykernel_launcher.py:9: UserWarning: PySoundFile failed. Trying audioread instead.\n",
      "  if __name__ == '__main__':\n",
      "/opt/conda/lib/python3.7/site-packages/ipykernel_launcher.py:10: UserWarning: PySoundFile failed. Trying audioread instead.\n",
      "  # Remove the CWD from sys.path while we load stuff.\n"
     ]
    },
    {
     "name": "stdout",
     "output_type": "stream",
     "text": [
      "tensor([0.9918], device='cuda:0')\n",
      "tensor([0.9570], device='cuda:0')\n",
      "tensor([0.9747], device='cuda:0')\n",
      "tensor([0.9842], device='cuda:0')\n",
      "#################SAVING_MODEL###################\n",
      "\n",
      "Epoch 8\n",
      "-------------------------------\n",
      "loss_avg_all_batches: 0.7152289876758581\n",
      "Test Error: \n",
      " Avg loss: 0.712839 \n"
     ]
    },
    {
     "name": "stderr",
     "output_type": "stream",
     "text": [
      "/opt/conda/lib/python3.7/site-packages/ipykernel_launcher.py:6: UserWarning: PySoundFile failed. Trying audioread instead.\n",
      "  \n",
      "/opt/conda/lib/python3.7/site-packages/ipykernel_launcher.py:7: UserWarning: PySoundFile failed. Trying audioread instead.\n",
      "  import sys\n",
      "/opt/conda/lib/python3.7/site-packages/ipykernel_launcher.py:9: UserWarning: PySoundFile failed. Trying audioread instead.\n",
      "  if __name__ == '__main__':\n",
      "/opt/conda/lib/python3.7/site-packages/ipykernel_launcher.py:10: UserWarning: PySoundFile failed. Trying audioread instead.\n",
      "  # Remove the CWD from sys.path while we load stuff.\n"
     ]
    },
    {
     "name": "stdout",
     "output_type": "stream",
     "text": [
      "tensor([0.9875], device='cuda:0')\n",
      "tensor([0.9579], device='cuda:0')\n",
      "tensor([0.9739], device='cuda:0')\n",
      "tensor([0.9811], device='cuda:0')\n",
      "#################SAVING_MODEL###################\n",
      "\n",
      "Epoch 9\n",
      "-------------------------------\n",
      "loss_avg_all_batches: 0.610503555012567\n",
      "Test Error: \n",
      " Avg loss: 0.609947 \n"
     ]
    },
    {
     "name": "stderr",
     "output_type": "stream",
     "text": [
      "/opt/conda/lib/python3.7/site-packages/ipykernel_launcher.py:6: UserWarning: PySoundFile failed. Trying audioread instead.\n",
      "  \n",
      "/opt/conda/lib/python3.7/site-packages/ipykernel_launcher.py:7: UserWarning: PySoundFile failed. Trying audioread instead.\n",
      "  import sys\n",
      "/opt/conda/lib/python3.7/site-packages/ipykernel_launcher.py:9: UserWarning: PySoundFile failed. Trying audioread instead.\n",
      "  if __name__ == '__main__':\n",
      "/opt/conda/lib/python3.7/site-packages/ipykernel_launcher.py:10: UserWarning: PySoundFile failed. Trying audioread instead.\n",
      "  # Remove the CWD from sys.path while we load stuff.\n"
     ]
    },
    {
     "name": "stdout",
     "output_type": "stream",
     "text": [
      "tensor([0.9939], device='cuda:0')\n",
      "tensor([0.9610], device='cuda:0')\n",
      "tensor([0.9687], device='cuda:0')\n",
      "tensor([0.9833], device='cuda:0')\n",
      "#################SAVING_MODEL###################\n",
      "\n",
      "Epoch 10\n",
      "-------------------------------\n",
      "loss_avg_all_batches: 0.511109488541973\n",
      "Test Error: \n",
      " Avg loss: 0.550892 \n"
     ]
    },
    {
     "name": "stderr",
     "output_type": "stream",
     "text": [
      "/opt/conda/lib/python3.7/site-packages/ipykernel_launcher.py:6: UserWarning: PySoundFile failed. Trying audioread instead.\n",
      "  \n",
      "/opt/conda/lib/python3.7/site-packages/ipykernel_launcher.py:7: UserWarning: PySoundFile failed. Trying audioread instead.\n",
      "  import sys\n",
      "/opt/conda/lib/python3.7/site-packages/ipykernel_launcher.py:9: UserWarning: PySoundFile failed. Trying audioread instead.\n",
      "  if __name__ == '__main__':\n",
      "/opt/conda/lib/python3.7/site-packages/ipykernel_launcher.py:10: UserWarning: PySoundFile failed. Trying audioread instead.\n",
      "  # Remove the CWD from sys.path while we load stuff.\n"
     ]
    },
    {
     "name": "stdout",
     "output_type": "stream",
     "text": [
      "tensor([0.9949], device='cuda:0')\n",
      "tensor([0.9677], device='cuda:0')\n",
      "tensor([0.9691], device='cuda:0')\n",
      "tensor([0.9831], device='cuda:0')\n",
      "#################SAVING_MODEL###################\n",
      "\n",
      "Epoch 11\n",
      "-------------------------------\n",
      "loss_avg_all_batches: 0.44414704986958514\n",
      "Test Error: \n",
      " Avg loss: 0.488700 \n"
     ]
    },
    {
     "name": "stderr",
     "output_type": "stream",
     "text": [
      "/opt/conda/lib/python3.7/site-packages/ipykernel_launcher.py:6: UserWarning: PySoundFile failed. Trying audioread instead.\n",
      "  \n",
      "/opt/conda/lib/python3.7/site-packages/ipykernel_launcher.py:7: UserWarning: PySoundFile failed. Trying audioread instead.\n",
      "  import sys\n",
      "/opt/conda/lib/python3.7/site-packages/ipykernel_launcher.py:9: UserWarning: PySoundFile failed. Trying audioread instead.\n",
      "  if __name__ == '__main__':\n",
      "/opt/conda/lib/python3.7/site-packages/ipykernel_launcher.py:10: UserWarning: PySoundFile failed. Trying audioread instead.\n",
      "  # Remove the CWD from sys.path while we load stuff.\n"
     ]
    },
    {
     "name": "stdout",
     "output_type": "stream",
     "text": [
      "tensor([0.9940], device='cuda:0')\n",
      "tensor([0.9461], device='cuda:0')\n",
      "tensor([0.9451], device='cuda:0')\n",
      "tensor([0.9670], device='cuda:0')\n",
      "#################SAVING_MODEL###################\n",
      "\n",
      "Epoch 12\n",
      "-------------------------------\n",
      "loss_avg_all_batches: 0.4011906434174892\n",
      "Test Error: \n",
      " Avg loss: 0.445619 \n"
     ]
    },
    {
     "name": "stderr",
     "output_type": "stream",
     "text": [
      "/opt/conda/lib/python3.7/site-packages/ipykernel_launcher.py:6: UserWarning: PySoundFile failed. Trying audioread instead.\n",
      "  \n",
      "/opt/conda/lib/python3.7/site-packages/ipykernel_launcher.py:7: UserWarning: PySoundFile failed. Trying audioread instead.\n",
      "  import sys\n",
      "/opt/conda/lib/python3.7/site-packages/ipykernel_launcher.py:9: UserWarning: PySoundFile failed. Trying audioread instead.\n",
      "  if __name__ == '__main__':\n",
      "/opt/conda/lib/python3.7/site-packages/ipykernel_launcher.py:10: UserWarning: PySoundFile failed. Trying audioread instead.\n",
      "  # Remove the CWD from sys.path while we load stuff.\n"
     ]
    },
    {
     "name": "stdout",
     "output_type": "stream",
     "text": [
      "tensor([0.9956], device='cuda:0')\n",
      "tensor([0.8985], device='cuda:0')\n",
      "tensor([0.9405], device='cuda:0')\n",
      "tensor([0.9697], device='cuda:0')\n",
      "#################SAVING_MODEL###################\n",
      "\n",
      "Epoch 13\n",
      "-------------------------------\n",
      "loss_avg_all_batches: 0.3626218914474535\n",
      "Test Error: \n",
      " Avg loss: 0.404867 \n"
     ]
    },
    {
     "name": "stderr",
     "output_type": "stream",
     "text": [
      "/opt/conda/lib/python3.7/site-packages/ipykernel_launcher.py:6: UserWarning: PySoundFile failed. Trying audioread instead.\n",
      "  \n",
      "/opt/conda/lib/python3.7/site-packages/ipykernel_launcher.py:7: UserWarning: PySoundFile failed. Trying audioread instead.\n",
      "  import sys\n",
      "/opt/conda/lib/python3.7/site-packages/ipykernel_launcher.py:9: UserWarning: PySoundFile failed. Trying audioread instead.\n",
      "  if __name__ == '__main__':\n",
      "/opt/conda/lib/python3.7/site-packages/ipykernel_launcher.py:10: UserWarning: PySoundFile failed. Trying audioread instead.\n",
      "  # Remove the CWD from sys.path while we load stuff.\n"
     ]
    },
    {
     "name": "stdout",
     "output_type": "stream",
     "text": [
      "tensor([0.9880], device='cuda:0')\n",
      "tensor([0.8891], device='cuda:0')\n",
      "tensor([0.9140], device='cuda:0')\n",
      "tensor([0.9797], device='cuda:0')\n",
      "#################SAVING_MODEL###################\n",
      "\n",
      "Epoch 14\n",
      "-------------------------------\n",
      "loss_avg_all_batches: 0.326262792174294\n",
      "Test Error: \n",
      " Avg loss: 0.363028 \n"
     ]
    },
    {
     "name": "stderr",
     "output_type": "stream",
     "text": [
      "/opt/conda/lib/python3.7/site-packages/ipykernel_launcher.py:6: UserWarning: PySoundFile failed. Trying audioread instead.\n",
      "  \n",
      "/opt/conda/lib/python3.7/site-packages/ipykernel_launcher.py:7: UserWarning: PySoundFile failed. Trying audioread instead.\n",
      "  import sys\n",
      "/opt/conda/lib/python3.7/site-packages/ipykernel_launcher.py:9: UserWarning: PySoundFile failed. Trying audioread instead.\n",
      "  if __name__ == '__main__':\n",
      "/opt/conda/lib/python3.7/site-packages/ipykernel_launcher.py:10: UserWarning: PySoundFile failed. Trying audioread instead.\n",
      "  # Remove the CWD from sys.path while we load stuff.\n"
     ]
    },
    {
     "name": "stdout",
     "output_type": "stream",
     "text": [
      "tensor([0.9921], device='cuda:0')\n",
      "tensor([0.8948], device='cuda:0')\n",
      "tensor([0.9296], device='cuda:0')\n",
      "tensor([0.9774], device='cuda:0')\n",
      "#################SAVING_MODEL###################\n",
      "\n",
      "Epoch 15\n",
      "-------------------------------\n",
      "loss_avg_all_batches: 0.3027655309002286\n",
      "Test Error: \n",
      " Avg loss: 0.361917 \n"
     ]
    },
    {
     "name": "stderr",
     "output_type": "stream",
     "text": [
      "/opt/conda/lib/python3.7/site-packages/ipykernel_launcher.py:6: UserWarning: PySoundFile failed. Trying audioread instead.\n",
      "  \n",
      "/opt/conda/lib/python3.7/site-packages/ipykernel_launcher.py:7: UserWarning: PySoundFile failed. Trying audioread instead.\n",
      "  import sys\n",
      "/opt/conda/lib/python3.7/site-packages/ipykernel_launcher.py:9: UserWarning: PySoundFile failed. Trying audioread instead.\n",
      "  if __name__ == '__main__':\n",
      "/opt/conda/lib/python3.7/site-packages/ipykernel_launcher.py:10: UserWarning: PySoundFile failed. Trying audioread instead.\n",
      "  # Remove the CWD from sys.path while we load stuff.\n"
     ]
    },
    {
     "name": "stdout",
     "output_type": "stream",
     "text": [
      "tensor([0.9924], device='cuda:0')\n",
      "tensor([0.8822], device='cuda:0')\n",
      "tensor([0.9224], device='cuda:0')\n",
      "tensor([0.9720], device='cuda:0')\n",
      "#################SAVING_MODEL###################\n",
      "\n",
      "Epoch 16\n",
      "-------------------------------\n",
      "loss_avg_all_batches: 0.2732104950714709\n",
      "Test Error: \n",
      " Avg loss: 0.319141 \n"
     ]
    },
    {
     "name": "stderr",
     "output_type": "stream",
     "text": [
      "/opt/conda/lib/python3.7/site-packages/ipykernel_launcher.py:6: UserWarning: PySoundFile failed. Trying audioread instead.\n",
      "  \n",
      "/opt/conda/lib/python3.7/site-packages/ipykernel_launcher.py:7: UserWarning: PySoundFile failed. Trying audioread instead.\n",
      "  import sys\n",
      "/opt/conda/lib/python3.7/site-packages/ipykernel_launcher.py:9: UserWarning: PySoundFile failed. Trying audioread instead.\n",
      "  if __name__ == '__main__':\n",
      "/opt/conda/lib/python3.7/site-packages/ipykernel_launcher.py:10: UserWarning: PySoundFile failed. Trying audioread instead.\n",
      "  # Remove the CWD from sys.path while we load stuff.\n"
     ]
    },
    {
     "name": "stdout",
     "output_type": "stream",
     "text": [
      "tensor([0.9955], device='cuda:0')\n",
      "tensor([0.9039], device='cuda:0')\n",
      "tensor([0.9431], device='cuda:0')\n",
      "tensor([0.9683], device='cuda:0')\n",
      "#################SAVING_MODEL###################\n",
      "\n",
      "Epoch 17\n",
      "-------------------------------\n",
      "loss_avg_all_batches: 0.2649913595640408\n",
      "Test Error: \n",
      " Avg loss: 0.314072 \n"
     ]
    },
    {
     "name": "stderr",
     "output_type": "stream",
     "text": [
      "/opt/conda/lib/python3.7/site-packages/ipykernel_launcher.py:6: UserWarning: PySoundFile failed. Trying audioread instead.\n",
      "  \n",
      "/opt/conda/lib/python3.7/site-packages/ipykernel_launcher.py:7: UserWarning: PySoundFile failed. Trying audioread instead.\n",
      "  import sys\n",
      "/opt/conda/lib/python3.7/site-packages/ipykernel_launcher.py:9: UserWarning: PySoundFile failed. Trying audioread instead.\n",
      "  if __name__ == '__main__':\n",
      "/opt/conda/lib/python3.7/site-packages/ipykernel_launcher.py:10: UserWarning: PySoundFile failed. Trying audioread instead.\n",
      "  # Remove the CWD from sys.path while we load stuff.\n"
     ]
    },
    {
     "name": "stdout",
     "output_type": "stream",
     "text": [
      "tensor([0.9953], device='cuda:0')\n",
      "tensor([0.8911], device='cuda:0')\n",
      "tensor([0.9499], device='cuda:0')\n",
      "tensor([0.9543], device='cuda:0')\n",
      "#################SAVING_MODEL###################\n",
      "\n",
      "Epoch 18\n",
      "-------------------------------\n",
      "loss_avg_all_batches: 0.24470300567496106\n",
      "Test Error: \n",
      " Avg loss: 0.273603 \n"
     ]
    },
    {
     "name": "stderr",
     "output_type": "stream",
     "text": [
      "/opt/conda/lib/python3.7/site-packages/ipykernel_launcher.py:6: UserWarning: PySoundFile failed. Trying audioread instead.\n",
      "  \n",
      "/opt/conda/lib/python3.7/site-packages/ipykernel_launcher.py:7: UserWarning: PySoundFile failed. Trying audioread instead.\n",
      "  import sys\n",
      "/opt/conda/lib/python3.7/site-packages/ipykernel_launcher.py:9: UserWarning: PySoundFile failed. Trying audioread instead.\n",
      "  if __name__ == '__main__':\n",
      "/opt/conda/lib/python3.7/site-packages/ipykernel_launcher.py:10: UserWarning: PySoundFile failed. Trying audioread instead.\n",
      "  # Remove the CWD from sys.path while we load stuff.\n"
     ]
    },
    {
     "name": "stdout",
     "output_type": "stream",
     "text": [
      "tensor([0.9930], device='cuda:0')\n",
      "tensor([0.9077], device='cuda:0')\n",
      "tensor([0.9457], device='cuda:0')\n",
      "tensor([0.9626], device='cuda:0')\n",
      "#################SAVING_MODEL###################\n",
      "\n",
      "Epoch 19\n",
      "-------------------------------\n",
      "loss_avg_all_batches: 0.22262810298430888\n",
      "Test Error: \n",
      " Avg loss: 0.266037 \n"
     ]
    },
    {
     "name": "stderr",
     "output_type": "stream",
     "text": [
      "/opt/conda/lib/python3.7/site-packages/ipykernel_launcher.py:6: UserWarning: PySoundFile failed. Trying audioread instead.\n",
      "  \n",
      "/opt/conda/lib/python3.7/site-packages/ipykernel_launcher.py:7: UserWarning: PySoundFile failed. Trying audioread instead.\n",
      "  import sys\n",
      "/opt/conda/lib/python3.7/site-packages/ipykernel_launcher.py:9: UserWarning: PySoundFile failed. Trying audioread instead.\n",
      "  if __name__ == '__main__':\n",
      "/opt/conda/lib/python3.7/site-packages/ipykernel_launcher.py:10: UserWarning: PySoundFile failed. Trying audioread instead.\n",
      "  # Remove the CWD from sys.path while we load stuff.\n"
     ]
    },
    {
     "name": "stdout",
     "output_type": "stream",
     "text": [
      "tensor([0.9949], device='cuda:0')\n",
      "tensor([0.8176], device='cuda:0')\n",
      "tensor([0.8903], device='cuda:0')\n",
      "tensor([0.9660], device='cuda:0')\n",
      "#################SAVING_MODEL###################\n",
      "\n",
      "Epoch 20\n",
      "-------------------------------\n",
      "loss_avg_all_batches: 0.206994573779817\n",
      "Test Error: \n",
      " Avg loss: 0.246796 \n"
     ]
    },
    {
     "name": "stderr",
     "output_type": "stream",
     "text": [
      "/opt/conda/lib/python3.7/site-packages/ipykernel_launcher.py:6: UserWarning: PySoundFile failed. Trying audioread instead.\n",
      "  \n",
      "/opt/conda/lib/python3.7/site-packages/ipykernel_launcher.py:7: UserWarning: PySoundFile failed. Trying audioread instead.\n",
      "  import sys\n",
      "/opt/conda/lib/python3.7/site-packages/ipykernel_launcher.py:9: UserWarning: PySoundFile failed. Trying audioread instead.\n",
      "  if __name__ == '__main__':\n",
      "/opt/conda/lib/python3.7/site-packages/ipykernel_launcher.py:10: UserWarning: PySoundFile failed. Trying audioread instead.\n",
      "  # Remove the CWD from sys.path while we load stuff.\n"
     ]
    },
    {
     "name": "stdout",
     "output_type": "stream",
     "text": [
      "tensor([0.9887], device='cuda:0')\n",
      "tensor([0.8929], device='cuda:0')\n",
      "tensor([0.9338], device='cuda:0')\n",
      "tensor([0.9623], device='cuda:0')\n",
      "#################SAVING_MODEL###################\n",
      "\n",
      "Epoch 21\n",
      "-------------------------------\n",
      "loss_avg_all_batches: 0.18725884485606467\n",
      "Test Error: \n",
      " Avg loss: 0.234079 \n"
     ]
    },
    {
     "name": "stderr",
     "output_type": "stream",
     "text": [
      "/opt/conda/lib/python3.7/site-packages/ipykernel_launcher.py:6: UserWarning: PySoundFile failed. Trying audioread instead.\n",
      "  \n",
      "/opt/conda/lib/python3.7/site-packages/ipykernel_launcher.py:7: UserWarning: PySoundFile failed. Trying audioread instead.\n",
      "  import sys\n",
      "/opt/conda/lib/python3.7/site-packages/ipykernel_launcher.py:9: UserWarning: PySoundFile failed. Trying audioread instead.\n",
      "  if __name__ == '__main__':\n",
      "/opt/conda/lib/python3.7/site-packages/ipykernel_launcher.py:10: UserWarning: PySoundFile failed. Trying audioread instead.\n",
      "  # Remove the CWD from sys.path while we load stuff.\n"
     ]
    },
    {
     "name": "stdout",
     "output_type": "stream",
     "text": [
      "tensor([0.9835], device='cuda:0')\n",
      "tensor([0.8809], device='cuda:0')\n",
      "tensor([0.8963], device='cuda:0')\n",
      "tensor([0.9650], device='cuda:0')\n",
      "#################SAVING_MODEL###################\n",
      "\n",
      "Epoch 22\n",
      "-------------------------------\n",
      "loss_avg_all_batches: 0.17626117289282558\n",
      "Test Error: \n",
      " Avg loss: 0.221100 \n"
     ]
    },
    {
     "name": "stderr",
     "output_type": "stream",
     "text": [
      "/opt/conda/lib/python3.7/site-packages/ipykernel_launcher.py:6: UserWarning: PySoundFile failed. Trying audioread instead.\n",
      "  \n",
      "/opt/conda/lib/python3.7/site-packages/ipykernel_launcher.py:7: UserWarning: PySoundFile failed. Trying audioread instead.\n",
      "  import sys\n",
      "/opt/conda/lib/python3.7/site-packages/ipykernel_launcher.py:9: UserWarning: PySoundFile failed. Trying audioread instead.\n",
      "  if __name__ == '__main__':\n",
      "/opt/conda/lib/python3.7/site-packages/ipykernel_launcher.py:10: UserWarning: PySoundFile failed. Trying audioread instead.\n",
      "  # Remove the CWD from sys.path while we load stuff.\n"
     ]
    },
    {
     "name": "stdout",
     "output_type": "stream",
     "text": [
      "tensor([0.9862], device='cuda:0')\n",
      "tensor([0.9236], device='cuda:0')\n",
      "tensor([0.9409], device='cuda:0')\n",
      "tensor([0.9635], device='cuda:0')\n",
      "#################SAVING_MODEL###################\n",
      "\n",
      "Epoch 23\n",
      "-------------------------------\n",
      "loss_avg_all_batches: 0.16152478667531447\n",
      "Test Error: \n",
      " Avg loss: 0.199841 \n"
     ]
    },
    {
     "name": "stderr",
     "output_type": "stream",
     "text": [
      "/opt/conda/lib/python3.7/site-packages/ipykernel_launcher.py:6: UserWarning: PySoundFile failed. Trying audioread instead.\n",
      "  \n",
      "/opt/conda/lib/python3.7/site-packages/ipykernel_launcher.py:7: UserWarning: PySoundFile failed. Trying audioread instead.\n",
      "  import sys\n",
      "/opt/conda/lib/python3.7/site-packages/ipykernel_launcher.py:9: UserWarning: PySoundFile failed. Trying audioread instead.\n",
      "  if __name__ == '__main__':\n",
      "/opt/conda/lib/python3.7/site-packages/ipykernel_launcher.py:10: UserWarning: PySoundFile failed. Trying audioread instead.\n",
      "  # Remove the CWD from sys.path while we load stuff.\n"
     ]
    },
    {
     "name": "stdout",
     "output_type": "stream",
     "text": [
      "tensor([0.9825], device='cuda:0')\n",
      "tensor([0.9109], device='cuda:0')\n",
      "tensor([0.9406], device='cuda:0')\n",
      "tensor([0.9560], device='cuda:0')\n",
      "#################SAVING_MODEL###################\n",
      "\n",
      "Epoch 24\n",
      "-------------------------------\n",
      "loss_avg_all_batches: 0.15512110903308698\n",
      "Test Error: \n",
      " Avg loss: 0.182735 \n"
     ]
    },
    {
     "name": "stderr",
     "output_type": "stream",
     "text": [
      "/opt/conda/lib/python3.7/site-packages/ipykernel_launcher.py:6: UserWarning: PySoundFile failed. Trying audioread instead.\n",
      "  \n",
      "/opt/conda/lib/python3.7/site-packages/ipykernel_launcher.py:7: UserWarning: PySoundFile failed. Trying audioread instead.\n",
      "  import sys\n",
      "/opt/conda/lib/python3.7/site-packages/ipykernel_launcher.py:9: UserWarning: PySoundFile failed. Trying audioread instead.\n",
      "  if __name__ == '__main__':\n",
      "/opt/conda/lib/python3.7/site-packages/ipykernel_launcher.py:10: UserWarning: PySoundFile failed. Trying audioread instead.\n",
      "  # Remove the CWD from sys.path while we load stuff.\n"
     ]
    },
    {
     "name": "stdout",
     "output_type": "stream",
     "text": [
      "tensor([0.9830], device='cuda:0')\n",
      "tensor([0.8793], device='cuda:0')\n",
      "tensor([0.9386], device='cuda:0')\n",
      "tensor([0.9558], device='cuda:0')\n",
      "#################SAVING_MODEL###################\n",
      "\n",
      "Epoch 25\n",
      "-------------------------------\n",
      "loss_avg_all_batches: 0.14368892901412414\n",
      "Test Error: \n",
      " Avg loss: 0.163775 \n"
     ]
    },
    {
     "name": "stderr",
     "output_type": "stream",
     "text": [
      "/opt/conda/lib/python3.7/site-packages/ipykernel_launcher.py:6: UserWarning: PySoundFile failed. Trying audioread instead.\n",
      "  \n",
      "/opt/conda/lib/python3.7/site-packages/ipykernel_launcher.py:7: UserWarning: PySoundFile failed. Trying audioread instead.\n",
      "  import sys\n",
      "/opt/conda/lib/python3.7/site-packages/ipykernel_launcher.py:9: UserWarning: PySoundFile failed. Trying audioread instead.\n",
      "  if __name__ == '__main__':\n",
      "/opt/conda/lib/python3.7/site-packages/ipykernel_launcher.py:10: UserWarning: PySoundFile failed. Trying audioread instead.\n",
      "  # Remove the CWD from sys.path while we load stuff.\n"
     ]
    },
    {
     "name": "stdout",
     "output_type": "stream",
     "text": [
      "tensor([0.9603], device='cuda:0')\n",
      "tensor([0.8507], device='cuda:0')\n",
      "tensor([0.8931], device='cuda:0')\n",
      "tensor([0.9398], device='cuda:0')\n",
      "#################SAVING_MODEL###################\n",
      "\n",
      "Epoch 26\n",
      "-------------------------------\n",
      "loss_avg_all_batches: 0.13192333873253229\n",
      "Test Error: \n",
      " Avg loss: 0.161538 \n"
     ]
    },
    {
     "name": "stderr",
     "output_type": "stream",
     "text": [
      "/opt/conda/lib/python3.7/site-packages/ipykernel_launcher.py:6: UserWarning: PySoundFile failed. Trying audioread instead.\n",
      "  \n",
      "/opt/conda/lib/python3.7/site-packages/ipykernel_launcher.py:7: UserWarning: PySoundFile failed. Trying audioread instead.\n",
      "  import sys\n",
      "/opt/conda/lib/python3.7/site-packages/ipykernel_launcher.py:9: UserWarning: PySoundFile failed. Trying audioread instead.\n",
      "  if __name__ == '__main__':\n",
      "/opt/conda/lib/python3.7/site-packages/ipykernel_launcher.py:10: UserWarning: PySoundFile failed. Trying audioread instead.\n",
      "  # Remove the CWD from sys.path while we load stuff.\n"
     ]
    },
    {
     "name": "stdout",
     "output_type": "stream",
     "text": [
      "tensor([0.9720], device='cuda:0')\n",
      "tensor([0.8663], device='cuda:0')\n",
      "tensor([0.9214], device='cuda:0')\n",
      "tensor([0.9352], device='cuda:0')\n",
      "#################SAVING_MODEL###################\n",
      "\n",
      "Epoch 27\n",
      "-------------------------------\n",
      "loss_avg_all_batches: 0.12330137869210467\n",
      "Test Error: \n",
      " Avg loss: 0.154571 \n"
     ]
    },
    {
     "name": "stderr",
     "output_type": "stream",
     "text": [
      "/opt/conda/lib/python3.7/site-packages/ipykernel_launcher.py:6: UserWarning: PySoundFile failed. Trying audioread instead.\n",
      "  \n",
      "/opt/conda/lib/python3.7/site-packages/ipykernel_launcher.py:7: UserWarning: PySoundFile failed. Trying audioread instead.\n",
      "  import sys\n",
      "/opt/conda/lib/python3.7/site-packages/ipykernel_launcher.py:9: UserWarning: PySoundFile failed. Trying audioread instead.\n",
      "  if __name__ == '__main__':\n",
      "/opt/conda/lib/python3.7/site-packages/ipykernel_launcher.py:10: UserWarning: PySoundFile failed. Trying audioread instead.\n",
      "  # Remove the CWD from sys.path while we load stuff.\n"
     ]
    },
    {
     "name": "stdout",
     "output_type": "stream",
     "text": [
      "tensor([0.9800], device='cuda:0')\n",
      "tensor([0.8849], device='cuda:0')\n",
      "tensor([0.9468], device='cuda:0')\n",
      "tensor([0.9543], device='cuda:0')\n",
      "#################SAVING_MODEL###################\n",
      "\n",
      "Epoch 28\n",
      "-------------------------------\n",
      "loss_avg_all_batches: 0.12159271011163424\n",
      "Test Error: \n",
      " Avg loss: 0.146648 \n"
     ]
    },
    {
     "name": "stderr",
     "output_type": "stream",
     "text": [
      "/opt/conda/lib/python3.7/site-packages/ipykernel_launcher.py:6: UserWarning: PySoundFile failed. Trying audioread instead.\n",
      "  \n",
      "/opt/conda/lib/python3.7/site-packages/ipykernel_launcher.py:7: UserWarning: PySoundFile failed. Trying audioread instead.\n",
      "  import sys\n",
      "/opt/conda/lib/python3.7/site-packages/ipykernel_launcher.py:9: UserWarning: PySoundFile failed. Trying audioread instead.\n",
      "  if __name__ == '__main__':\n",
      "/opt/conda/lib/python3.7/site-packages/ipykernel_launcher.py:10: UserWarning: PySoundFile failed. Trying audioread instead.\n",
      "  # Remove the CWD from sys.path while we load stuff.\n"
     ]
    },
    {
     "name": "stdout",
     "output_type": "stream",
     "text": [
      "tensor([0.9705], device='cuda:0')\n",
      "tensor([0.8782], device='cuda:0')\n",
      "tensor([0.9381], device='cuda:0')\n",
      "tensor([0.9503], device='cuda:0')\n",
      "#################SAVING_MODEL###################\n",
      "\n",
      "Epoch 29\n",
      "-------------------------------\n",
      "loss_avg_all_batches: 0.11405000400220813\n",
      "Test Error: \n",
      " Avg loss: 0.139342 \n"
     ]
    },
    {
     "name": "stderr",
     "output_type": "stream",
     "text": [
      "/opt/conda/lib/python3.7/site-packages/ipykernel_launcher.py:6: UserWarning: PySoundFile failed. Trying audioread instead.\n",
      "  \n",
      "/opt/conda/lib/python3.7/site-packages/ipykernel_launcher.py:7: UserWarning: PySoundFile failed. Trying audioread instead.\n",
      "  import sys\n",
      "/opt/conda/lib/python3.7/site-packages/ipykernel_launcher.py:9: UserWarning: PySoundFile failed. Trying audioread instead.\n",
      "  if __name__ == '__main__':\n",
      "/opt/conda/lib/python3.7/site-packages/ipykernel_launcher.py:10: UserWarning: PySoundFile failed. Trying audioread instead.\n",
      "  # Remove the CWD from sys.path while we load stuff.\n"
     ]
    },
    {
     "name": "stdout",
     "output_type": "stream",
     "text": [
      "tensor([0.9583], device='cuda:0')\n",
      "tensor([0.8767], device='cuda:0')\n",
      "tensor([0.9325], device='cuda:0')\n",
      "tensor([0.9519], device='cuda:0')\n",
      "#################SAVING_MODEL###################\n",
      "\n",
      "Epoch 30\n",
      "-------------------------------\n",
      "loss_avg_all_batches: 0.11244710466006186\n",
      "Test Error: \n",
      " Avg loss: 0.138835 \n"
     ]
    },
    {
     "name": "stderr",
     "output_type": "stream",
     "text": [
      "/opt/conda/lib/python3.7/site-packages/ipykernel_launcher.py:6: UserWarning: PySoundFile failed. Trying audioread instead.\n",
      "  \n",
      "/opt/conda/lib/python3.7/site-packages/ipykernel_launcher.py:7: UserWarning: PySoundFile failed. Trying audioread instead.\n",
      "  import sys\n",
      "/opt/conda/lib/python3.7/site-packages/ipykernel_launcher.py:9: UserWarning: PySoundFile failed. Trying audioread instead.\n",
      "  if __name__ == '__main__':\n",
      "/opt/conda/lib/python3.7/site-packages/ipykernel_launcher.py:10: UserWarning: PySoundFile failed. Trying audioread instead.\n",
      "  # Remove the CWD from sys.path while we load stuff.\n"
     ]
    },
    {
     "name": "stdout",
     "output_type": "stream",
     "text": [
      "tensor([0.9507], device='cuda:0')\n",
      "tensor([0.8651], device='cuda:0')\n",
      "tensor([0.9184], device='cuda:0')\n",
      "tensor([0.9473], device='cuda:0')\n",
      "#################SAVING_MODEL###################\n",
      "\n",
      "Epoch 31\n",
      "-------------------------------\n",
      "loss_avg_all_batches: 0.10412163616681476\n",
      "Test Error: \n",
      " Avg loss: 0.129013 \n"
     ]
    },
    {
     "name": "stderr",
     "output_type": "stream",
     "text": [
      "/opt/conda/lib/python3.7/site-packages/ipykernel_launcher.py:6: UserWarning: PySoundFile failed. Trying audioread instead.\n",
      "  \n",
      "/opt/conda/lib/python3.7/site-packages/ipykernel_launcher.py:7: UserWarning: PySoundFile failed. Trying audioread instead.\n",
      "  import sys\n",
      "/opt/conda/lib/python3.7/site-packages/ipykernel_launcher.py:9: UserWarning: PySoundFile failed. Trying audioread instead.\n",
      "  if __name__ == '__main__':\n",
      "/opt/conda/lib/python3.7/site-packages/ipykernel_launcher.py:10: UserWarning: PySoundFile failed. Trying audioread instead.\n",
      "  # Remove the CWD from sys.path while we load stuff.\n"
     ]
    },
    {
     "name": "stdout",
     "output_type": "stream",
     "text": [
      "tensor([0.9601], device='cuda:0')\n",
      "tensor([0.8668], device='cuda:0')\n",
      "tensor([0.9447], device='cuda:0')\n",
      "tensor([0.9446], device='cuda:0')\n",
      "#################SAVING_MODEL###################\n",
      "\n",
      "Epoch 32\n",
      "-------------------------------\n",
      "loss_avg_all_batches: 0.09842561325181207\n",
      "Test Error: \n",
      " Avg loss: 0.120348 \n"
     ]
    },
    {
     "name": "stderr",
     "output_type": "stream",
     "text": [
      "/opt/conda/lib/python3.7/site-packages/ipykernel_launcher.py:6: UserWarning: PySoundFile failed. Trying audioread instead.\n",
      "  \n",
      "/opt/conda/lib/python3.7/site-packages/ipykernel_launcher.py:7: UserWarning: PySoundFile failed. Trying audioread instead.\n",
      "  import sys\n",
      "/opt/conda/lib/python3.7/site-packages/ipykernel_launcher.py:9: UserWarning: PySoundFile failed. Trying audioread instead.\n",
      "  if __name__ == '__main__':\n",
      "/opt/conda/lib/python3.7/site-packages/ipykernel_launcher.py:10: UserWarning: PySoundFile failed. Trying audioread instead.\n",
      "  # Remove the CWD from sys.path while we load stuff.\n"
     ]
    },
    {
     "name": "stdout",
     "output_type": "stream",
     "text": [
      "tensor([0.9490], device='cuda:0')\n",
      "tensor([0.8387], device='cuda:0')\n",
      "tensor([0.9312], device='cuda:0')\n",
      "tensor([0.9378], device='cuda:0')\n",
      "#################SAVING_MODEL###################\n",
      "\n",
      "Epoch 33\n",
      "-------------------------------\n",
      "loss_avg_all_batches: 0.09492717730495735\n",
      "Test Error: \n",
      " Avg loss: 0.115675 \n"
     ]
    },
    {
     "name": "stderr",
     "output_type": "stream",
     "text": [
      "/opt/conda/lib/python3.7/site-packages/ipykernel_launcher.py:6: UserWarning: PySoundFile failed. Trying audioread instead.\n",
      "  \n",
      "/opt/conda/lib/python3.7/site-packages/ipykernel_launcher.py:7: UserWarning: PySoundFile failed. Trying audioread instead.\n",
      "  import sys\n",
      "/opt/conda/lib/python3.7/site-packages/ipykernel_launcher.py:9: UserWarning: PySoundFile failed. Trying audioread instead.\n",
      "  if __name__ == '__main__':\n",
      "/opt/conda/lib/python3.7/site-packages/ipykernel_launcher.py:10: UserWarning: PySoundFile failed. Trying audioread instead.\n",
      "  # Remove the CWD from sys.path while we load stuff.\n"
     ]
    },
    {
     "name": "stdout",
     "output_type": "stream",
     "text": [
      "tensor([0.9620], device='cuda:0')\n",
      "tensor([0.7810], device='cuda:0')\n",
      "tensor([0.9020], device='cuda:0')\n",
      "tensor([0.8927], device='cuda:0')\n",
      "#################SAVING_MODEL###################\n",
      "\n",
      "Epoch 34\n",
      "-------------------------------\n",
      "loss_avg_all_batches: 0.08843608160741569\n",
      "Test Error: \n",
      " Avg loss: 0.114831 \n"
     ]
    },
    {
     "name": "stderr",
     "output_type": "stream",
     "text": [
      "/opt/conda/lib/python3.7/site-packages/ipykernel_launcher.py:6: UserWarning: PySoundFile failed. Trying audioread instead.\n",
      "  \n",
      "/opt/conda/lib/python3.7/site-packages/ipykernel_launcher.py:7: UserWarning: PySoundFile failed. Trying audioread instead.\n",
      "  import sys\n",
      "/opt/conda/lib/python3.7/site-packages/ipykernel_launcher.py:9: UserWarning: PySoundFile failed. Trying audioread instead.\n",
      "  if __name__ == '__main__':\n",
      "/opt/conda/lib/python3.7/site-packages/ipykernel_launcher.py:10: UserWarning: PySoundFile failed. Trying audioread instead.\n",
      "  # Remove the CWD from sys.path while we load stuff.\n"
     ]
    },
    {
     "name": "stdout",
     "output_type": "stream",
     "text": [
      "tensor([0.9556], device='cuda:0')\n",
      "tensor([0.8253], device='cuda:0')\n",
      "tensor([0.9046], device='cuda:0')\n",
      "tensor([0.9436], device='cuda:0')\n",
      "#################SAVING_MODEL###################\n",
      "\n",
      "Epoch 35\n",
      "-------------------------------\n",
      "loss_avg_all_batches: 0.0865737458317489\n",
      "Test Error: \n",
      " Avg loss: 0.111766 \n"
     ]
    },
    {
     "name": "stderr",
     "output_type": "stream",
     "text": [
      "/opt/conda/lib/python3.7/site-packages/ipykernel_launcher.py:6: UserWarning: PySoundFile failed. Trying audioread instead.\n",
      "  \n",
      "/opt/conda/lib/python3.7/site-packages/ipykernel_launcher.py:7: UserWarning: PySoundFile failed. Trying audioread instead.\n",
      "  import sys\n",
      "/opt/conda/lib/python3.7/site-packages/ipykernel_launcher.py:9: UserWarning: PySoundFile failed. Trying audioread instead.\n",
      "  if __name__ == '__main__':\n",
      "/opt/conda/lib/python3.7/site-packages/ipykernel_launcher.py:10: UserWarning: PySoundFile failed. Trying audioread instead.\n",
      "  # Remove the CWD from sys.path while we load stuff.\n"
     ]
    },
    {
     "name": "stdout",
     "output_type": "stream",
     "text": [
      "tensor([0.9563], device='cuda:0')\n",
      "tensor([0.8569], device='cuda:0')\n",
      "tensor([0.8945], device='cuda:0')\n",
      "tensor([0.9295], device='cuda:0')\n",
      "#################SAVING_MODEL###################\n",
      "\n",
      "Epoch 36\n",
      "-------------------------------\n",
      "loss_avg_all_batches: 0.0790321396609724\n",
      "Test Error: \n",
      " Avg loss: 0.109418 \n"
     ]
    },
    {
     "name": "stderr",
     "output_type": "stream",
     "text": [
      "/opt/conda/lib/python3.7/site-packages/ipykernel_launcher.py:6: UserWarning: PySoundFile failed. Trying audioread instead.\n",
      "  \n",
      "/opt/conda/lib/python3.7/site-packages/ipykernel_launcher.py:7: UserWarning: PySoundFile failed. Trying audioread instead.\n",
      "  import sys\n",
      "/opt/conda/lib/python3.7/site-packages/ipykernel_launcher.py:9: UserWarning: PySoundFile failed. Trying audioread instead.\n",
      "  if __name__ == '__main__':\n",
      "/opt/conda/lib/python3.7/site-packages/ipykernel_launcher.py:10: UserWarning: PySoundFile failed. Trying audioread instead.\n",
      "  # Remove the CWD from sys.path while we load stuff.\n"
     ]
    },
    {
     "name": "stdout",
     "output_type": "stream",
     "text": [
      "tensor([0.9451], device='cuda:0')\n",
      "tensor([0.7709], device='cuda:0')\n",
      "tensor([0.9135], device='cuda:0')\n",
      "tensor([0.9322], device='cuda:0')\n",
      "#################SAVING_MODEL###################\n",
      "\n",
      "Epoch 37\n",
      "-------------------------------\n",
      "loss_avg_all_batches: 0.0781213800560457\n",
      "Test Error: \n",
      " Avg loss: 0.098803 \n"
     ]
    },
    {
     "name": "stderr",
     "output_type": "stream",
     "text": [
      "/opt/conda/lib/python3.7/site-packages/ipykernel_launcher.py:6: UserWarning: PySoundFile failed. Trying audioread instead.\n",
      "  \n",
      "/opt/conda/lib/python3.7/site-packages/ipykernel_launcher.py:7: UserWarning: PySoundFile failed. Trying audioread instead.\n",
      "  import sys\n",
      "/opt/conda/lib/python3.7/site-packages/ipykernel_launcher.py:9: UserWarning: PySoundFile failed. Trying audioread instead.\n",
      "  if __name__ == '__main__':\n",
      "/opt/conda/lib/python3.7/site-packages/ipykernel_launcher.py:10: UserWarning: PySoundFile failed. Trying audioread instead.\n",
      "  # Remove the CWD from sys.path while we load stuff.\n"
     ]
    },
    {
     "name": "stdout",
     "output_type": "stream",
     "text": [
      "tensor([0.9453], device='cuda:0')\n",
      "tensor([0.8303], device='cuda:0')\n",
      "tensor([0.8948], device='cuda:0')\n",
      "tensor([0.9335], device='cuda:0')\n",
      "#################SAVING_MODEL###################\n",
      "\n",
      "Epoch 38\n",
      "-------------------------------\n",
      "loss_avg_all_batches: 0.07856098200516445\n",
      "Test Error: \n",
      " Avg loss: 0.101476 \n"
     ]
    },
    {
     "name": "stderr",
     "output_type": "stream",
     "text": [
      "/opt/conda/lib/python3.7/site-packages/ipykernel_launcher.py:6: UserWarning: PySoundFile failed. Trying audioread instead.\n",
      "  \n",
      "/opt/conda/lib/python3.7/site-packages/ipykernel_launcher.py:7: UserWarning: PySoundFile failed. Trying audioread instead.\n",
      "  import sys\n",
      "/opt/conda/lib/python3.7/site-packages/ipykernel_launcher.py:9: UserWarning: PySoundFile failed. Trying audioread instead.\n",
      "  if __name__ == '__main__':\n",
      "/opt/conda/lib/python3.7/site-packages/ipykernel_launcher.py:10: UserWarning: PySoundFile failed. Trying audioread instead.\n",
      "  # Remove the CWD from sys.path while we load stuff.\n"
     ]
    },
    {
     "name": "stdout",
     "output_type": "stream",
     "text": [
      "tensor([0.9493], device='cuda:0')\n",
      "tensor([0.8250], device='cuda:0')\n",
      "tensor([0.8660], device='cuda:0')\n",
      "tensor([0.9087], device='cuda:0')\n",
      "Epoch 39\n",
      "-------------------------------\n",
      "loss_avg_all_batches: 0.07310468301983024\n",
      "Test Error: \n",
      " Avg loss: 0.101349 \n"
     ]
    },
    {
     "name": "stderr",
     "output_type": "stream",
     "text": [
      "/opt/conda/lib/python3.7/site-packages/ipykernel_launcher.py:6: UserWarning: PySoundFile failed. Trying audioread instead.\n",
      "  \n",
      "/opt/conda/lib/python3.7/site-packages/ipykernel_launcher.py:7: UserWarning: PySoundFile failed. Trying audioread instead.\n",
      "  import sys\n",
      "/opt/conda/lib/python3.7/site-packages/ipykernel_launcher.py:9: UserWarning: PySoundFile failed. Trying audioread instead.\n",
      "  if __name__ == '__main__':\n",
      "/opt/conda/lib/python3.7/site-packages/ipykernel_launcher.py:10: UserWarning: PySoundFile failed. Trying audioread instead.\n",
      "  # Remove the CWD from sys.path while we load stuff.\n"
     ]
    },
    {
     "name": "stdout",
     "output_type": "stream",
     "text": [
      "tensor([0.9248], device='cuda:0')\n",
      "tensor([0.8546], device='cuda:0')\n",
      "tensor([0.8967], device='cuda:0')\n",
      "tensor([0.9064], device='cuda:0')\n",
      "Epoch 40\n",
      "-------------------------------\n",
      "loss_avg_all_batches: 0.07250368617484862\n",
      "Test Error: \n",
      " Avg loss: 0.093096 \n"
     ]
    },
    {
     "name": "stderr",
     "output_type": "stream",
     "text": [
      "/opt/conda/lib/python3.7/site-packages/ipykernel_launcher.py:6: UserWarning: PySoundFile failed. Trying audioread instead.\n",
      "  \n",
      "/opt/conda/lib/python3.7/site-packages/ipykernel_launcher.py:7: UserWarning: PySoundFile failed. Trying audioread instead.\n",
      "  import sys\n",
      "/opt/conda/lib/python3.7/site-packages/ipykernel_launcher.py:9: UserWarning: PySoundFile failed. Trying audioread instead.\n",
      "  if __name__ == '__main__':\n",
      "/opt/conda/lib/python3.7/site-packages/ipykernel_launcher.py:10: UserWarning: PySoundFile failed. Trying audioread instead.\n",
      "  # Remove the CWD from sys.path while we load stuff.\n"
     ]
    },
    {
     "name": "stdout",
     "output_type": "stream",
     "text": [
      "tensor([0.9515], device='cuda:0')\n",
      "tensor([0.8957], device='cuda:0')\n",
      "tensor([0.9192], device='cuda:0')\n",
      "tensor([0.9248], device='cuda:0')\n",
      "#################SAVING_MODEL###################\n",
      "\n",
      "Epoch 41\n",
      "-------------------------------\n",
      "loss_avg_all_batches: 0.07138228496797087\n",
      "Test Error: \n",
      " Avg loss: 0.090884 \n"
     ]
    },
    {
     "name": "stderr",
     "output_type": "stream",
     "text": [
      "/opt/conda/lib/python3.7/site-packages/ipykernel_launcher.py:6: UserWarning: PySoundFile failed. Trying audioread instead.\n",
      "  \n",
      "/opt/conda/lib/python3.7/site-packages/ipykernel_launcher.py:7: UserWarning: PySoundFile failed. Trying audioread instead.\n",
      "  import sys\n",
      "/opt/conda/lib/python3.7/site-packages/ipykernel_launcher.py:9: UserWarning: PySoundFile failed. Trying audioread instead.\n",
      "  if __name__ == '__main__':\n",
      "/opt/conda/lib/python3.7/site-packages/ipykernel_launcher.py:10: UserWarning: PySoundFile failed. Trying audioread instead.\n",
      "  # Remove the CWD from sys.path while we load stuff.\n"
     ]
    },
    {
     "name": "stdout",
     "output_type": "stream",
     "text": [
      "tensor([0.9537], device='cuda:0')\n",
      "tensor([0.8270], device='cuda:0')\n",
      "tensor([0.8370], device='cuda:0')\n",
      "tensor([0.8851], device='cuda:0')\n",
      "#################SAVING_MODEL###################\n",
      "\n",
      "Epoch 42\n",
      "-------------------------------\n",
      "loss_avg_all_batches: 0.06749364619922277\n",
      "Test Error: \n",
      " Avg loss: 0.087730 \n"
     ]
    },
    {
     "name": "stderr",
     "output_type": "stream",
     "text": [
      "/opt/conda/lib/python3.7/site-packages/ipykernel_launcher.py:6: UserWarning: PySoundFile failed. Trying audioread instead.\n",
      "  \n",
      "/opt/conda/lib/python3.7/site-packages/ipykernel_launcher.py:7: UserWarning: PySoundFile failed. Trying audioread instead.\n",
      "  import sys\n",
      "/opt/conda/lib/python3.7/site-packages/ipykernel_launcher.py:9: UserWarning: PySoundFile failed. Trying audioread instead.\n",
      "  if __name__ == '__main__':\n",
      "/opt/conda/lib/python3.7/site-packages/ipykernel_launcher.py:10: UserWarning: PySoundFile failed. Trying audioread instead.\n",
      "  # Remove the CWD from sys.path while we load stuff.\n"
     ]
    },
    {
     "name": "stdout",
     "output_type": "stream",
     "text": [
      "tensor([0.9538], device='cuda:0')\n",
      "tensor([0.8565], device='cuda:0')\n",
      "tensor([0.8691], device='cuda:0')\n",
      "tensor([0.8838], device='cuda:0')\n",
      "#################SAVING_MODEL###################\n",
      "\n",
      "Epoch 43\n",
      "-------------------------------\n",
      "loss_avg_all_batches: 0.06528549204890108\n",
      "Test Error: \n",
      " Avg loss: 0.082944 \n"
     ]
    },
    {
     "name": "stderr",
     "output_type": "stream",
     "text": [
      "/opt/conda/lib/python3.7/site-packages/ipykernel_launcher.py:6: UserWarning: PySoundFile failed. Trying audioread instead.\n",
      "  \n",
      "/opt/conda/lib/python3.7/site-packages/ipykernel_launcher.py:7: UserWarning: PySoundFile failed. Trying audioread instead.\n",
      "  import sys\n",
      "/opt/conda/lib/python3.7/site-packages/ipykernel_launcher.py:9: UserWarning: PySoundFile failed. Trying audioread instead.\n",
      "  if __name__ == '__main__':\n",
      "/opt/conda/lib/python3.7/site-packages/ipykernel_launcher.py:10: UserWarning: PySoundFile failed. Trying audioread instead.\n",
      "  # Remove the CWD from sys.path while we load stuff.\n"
     ]
    },
    {
     "name": "stdout",
     "output_type": "stream",
     "text": [
      "tensor([0.9462], device='cuda:0')\n",
      "tensor([0.8417], device='cuda:0')\n",
      "tensor([0.8417], device='cuda:0')\n",
      "tensor([0.8653], device='cuda:0')\n",
      "#################SAVING_MODEL###################\n",
      "\n",
      "Epoch 44\n",
      "-------------------------------\n",
      "loss_avg_all_batches: 0.06397499730024182\n",
      "Test Error: \n",
      " Avg loss: 0.074777 \n"
     ]
    },
    {
     "name": "stderr",
     "output_type": "stream",
     "text": [
      "/opt/conda/lib/python3.7/site-packages/ipykernel_launcher.py:6: UserWarning: PySoundFile failed. Trying audioread instead.\n",
      "  \n",
      "/opt/conda/lib/python3.7/site-packages/ipykernel_launcher.py:7: UserWarning: PySoundFile failed. Trying audioread instead.\n",
      "  import sys\n",
      "/opt/conda/lib/python3.7/site-packages/ipykernel_launcher.py:9: UserWarning: PySoundFile failed. Trying audioread instead.\n",
      "  if __name__ == '__main__':\n",
      "/opt/conda/lib/python3.7/site-packages/ipykernel_launcher.py:10: UserWarning: PySoundFile failed. Trying audioread instead.\n",
      "  # Remove the CWD from sys.path while we load stuff.\n"
     ]
    },
    {
     "name": "stdout",
     "output_type": "stream",
     "text": [
      "tensor([0.9333], device='cuda:0')\n",
      "tensor([0.8586], device='cuda:0')\n",
      "tensor([0.8885], device='cuda:0')\n",
      "tensor([0.8766], device='cuda:0')\n",
      "#################SAVING_MODEL###################\n",
      "\n",
      "Epoch 45\n",
      "-------------------------------\n",
      "loss_avg_all_batches: 0.0617069245665027\n",
      "Test Error: \n",
      " Avg loss: 0.078911 \n"
     ]
    },
    {
     "name": "stderr",
     "output_type": "stream",
     "text": [
      "/opt/conda/lib/python3.7/site-packages/ipykernel_launcher.py:6: UserWarning: PySoundFile failed. Trying audioread instead.\n",
      "  \n",
      "/opt/conda/lib/python3.7/site-packages/ipykernel_launcher.py:7: UserWarning: PySoundFile failed. Trying audioread instead.\n",
      "  import sys\n",
      "/opt/conda/lib/python3.7/site-packages/ipykernel_launcher.py:9: UserWarning: PySoundFile failed. Trying audioread instead.\n",
      "  if __name__ == '__main__':\n",
      "/opt/conda/lib/python3.7/site-packages/ipykernel_launcher.py:10: UserWarning: PySoundFile failed. Trying audioread instead.\n",
      "  # Remove the CWD from sys.path while we load stuff.\n"
     ]
    },
    {
     "name": "stdout",
     "output_type": "stream",
     "text": [
      "tensor([0.9515], device='cuda:0')\n",
      "tensor([0.8621], device='cuda:0')\n",
      "tensor([0.8924], device='cuda:0')\n",
      "tensor([0.9129], device='cuda:0')\n",
      "Epoch 46\n",
      "-------------------------------\n",
      "loss_avg_all_batches: 0.05779508767295678\n",
      "Test Error: \n",
      " Avg loss: 0.077366 \n"
     ]
    },
    {
     "name": "stderr",
     "output_type": "stream",
     "text": [
      "/opt/conda/lib/python3.7/site-packages/ipykernel_launcher.py:6: UserWarning: PySoundFile failed. Trying audioread instead.\n",
      "  \n",
      "/opt/conda/lib/python3.7/site-packages/ipykernel_launcher.py:7: UserWarning: PySoundFile failed. Trying audioread instead.\n",
      "  import sys\n",
      "/opt/conda/lib/python3.7/site-packages/ipykernel_launcher.py:9: UserWarning: PySoundFile failed. Trying audioread instead.\n",
      "  if __name__ == '__main__':\n",
      "/opt/conda/lib/python3.7/site-packages/ipykernel_launcher.py:10: UserWarning: PySoundFile failed. Trying audioread instead.\n",
      "  # Remove the CWD from sys.path while we load stuff.\n"
     ]
    },
    {
     "name": "stdout",
     "output_type": "stream",
     "text": [
      "tensor([0.9491], device='cuda:0')\n",
      "tensor([0.8723], device='cuda:0')\n",
      "tensor([0.8984], device='cuda:0')\n",
      "tensor([0.8995], device='cuda:0')\n",
      "Epoch 47\n",
      "-------------------------------\n",
      "loss_avg_all_batches: 0.057076133935685246\n",
      "Test Error: \n",
      " Avg loss: 0.072256 \n"
     ]
    },
    {
     "name": "stderr",
     "output_type": "stream",
     "text": [
      "/opt/conda/lib/python3.7/site-packages/ipykernel_launcher.py:6: UserWarning: PySoundFile failed. Trying audioread instead.\n",
      "  \n",
      "/opt/conda/lib/python3.7/site-packages/ipykernel_launcher.py:7: UserWarning: PySoundFile failed. Trying audioread instead.\n",
      "  import sys\n",
      "/opt/conda/lib/python3.7/site-packages/ipykernel_launcher.py:9: UserWarning: PySoundFile failed. Trying audioread instead.\n",
      "  if __name__ == '__main__':\n",
      "/opt/conda/lib/python3.7/site-packages/ipykernel_launcher.py:10: UserWarning: PySoundFile failed. Trying audioread instead.\n",
      "  # Remove the CWD from sys.path while we load stuff.\n"
     ]
    },
    {
     "name": "stdout",
     "output_type": "stream",
     "text": [
      "tensor([0.9334], device='cuda:0')\n",
      "tensor([0.8076], device='cuda:0')\n",
      "tensor([0.8574], device='cuda:0')\n",
      "tensor([0.8820], device='cuda:0')\n",
      "#################SAVING_MODEL###################\n",
      "\n",
      "Epoch 48\n",
      "-------------------------------\n",
      "loss_avg_all_batches: 0.05696216825147633\n",
      "Test Error: \n",
      " Avg loss: 0.073150 \n"
     ]
    },
    {
     "name": "stderr",
     "output_type": "stream",
     "text": [
      "/opt/conda/lib/python3.7/site-packages/ipykernel_launcher.py:6: UserWarning: PySoundFile failed. Trying audioread instead.\n",
      "  \n",
      "/opt/conda/lib/python3.7/site-packages/ipykernel_launcher.py:7: UserWarning: PySoundFile failed. Trying audioread instead.\n",
      "  import sys\n",
      "/opt/conda/lib/python3.7/site-packages/ipykernel_launcher.py:9: UserWarning: PySoundFile failed. Trying audioread instead.\n",
      "  if __name__ == '__main__':\n",
      "/opt/conda/lib/python3.7/site-packages/ipykernel_launcher.py:10: UserWarning: PySoundFile failed. Trying audioread instead.\n",
      "  # Remove the CWD from sys.path while we load stuff.\n"
     ]
    },
    {
     "name": "stdout",
     "output_type": "stream",
     "text": [
      "tensor([0.9343], device='cuda:0')\n",
      "tensor([0.8763], device='cuda:0')\n",
      "tensor([0.9034], device='cuda:0')\n",
      "tensor([0.8765], device='cuda:0')\n",
      "Epoch 49\n",
      "-------------------------------\n",
      "loss_avg_all_batches: 0.05496302505372716\n",
      "Test Error: \n",
      " Avg loss: 0.065678 \n"
     ]
    },
    {
     "name": "stderr",
     "output_type": "stream",
     "text": [
      "/opt/conda/lib/python3.7/site-packages/ipykernel_launcher.py:6: UserWarning: PySoundFile failed. Trying audioread instead.\n",
      "  \n",
      "/opt/conda/lib/python3.7/site-packages/ipykernel_launcher.py:7: UserWarning: PySoundFile failed. Trying audioread instead.\n",
      "  import sys\n",
      "/opt/conda/lib/python3.7/site-packages/ipykernel_launcher.py:9: UserWarning: PySoundFile failed. Trying audioread instead.\n",
      "  if __name__ == '__main__':\n",
      "/opt/conda/lib/python3.7/site-packages/ipykernel_launcher.py:10: UserWarning: PySoundFile failed. Trying audioread instead.\n",
      "  # Remove the CWD from sys.path while we load stuff.\n"
     ]
    },
    {
     "name": "stdout",
     "output_type": "stream",
     "text": [
      "tensor([0.9589], device='cuda:0')\n",
      "tensor([0.9035], device='cuda:0')\n",
      "tensor([0.8944], device='cuda:0')\n",
      "tensor([0.8937], device='cuda:0')\n",
      "#################SAVING_MODEL###################\n",
      "\n",
      "Epoch 50\n",
      "-------------------------------\n",
      "loss_avg_all_batches: 0.05445410813374499\n",
      "Test Error: \n",
      " Avg loss: 0.068245 \n"
     ]
    },
    {
     "name": "stderr",
     "output_type": "stream",
     "text": [
      "/opt/conda/lib/python3.7/site-packages/ipykernel_launcher.py:6: UserWarning: PySoundFile failed. Trying audioread instead.\n",
      "  \n",
      "/opt/conda/lib/python3.7/site-packages/ipykernel_launcher.py:7: UserWarning: PySoundFile failed. Trying audioread instead.\n",
      "  import sys\n",
      "/opt/conda/lib/python3.7/site-packages/ipykernel_launcher.py:9: UserWarning: PySoundFile failed. Trying audioread instead.\n",
      "  if __name__ == '__main__':\n",
      "/opt/conda/lib/python3.7/site-packages/ipykernel_launcher.py:10: UserWarning: PySoundFile failed. Trying audioread instead.\n",
      "  # Remove the CWD from sys.path while we load stuff.\n"
     ]
    },
    {
     "name": "stdout",
     "output_type": "stream",
     "text": [
      "tensor([0.9534], device='cuda:0')\n",
      "tensor([0.9039], device='cuda:0')\n",
      "tensor([0.8551], device='cuda:0')\n",
      "tensor([0.8799], device='cuda:0')\n",
      "Epoch 51\n",
      "-------------------------------\n",
      "loss_avg_all_batches: 0.05463823492056383\n",
      "Test Error: \n",
      " Avg loss: 0.068385 \n"
     ]
    },
    {
     "name": "stderr",
     "output_type": "stream",
     "text": [
      "/opt/conda/lib/python3.7/site-packages/ipykernel_launcher.py:6: UserWarning: PySoundFile failed. Trying audioread instead.\n",
      "  \n",
      "/opt/conda/lib/python3.7/site-packages/ipykernel_launcher.py:7: UserWarning: PySoundFile failed. Trying audioread instead.\n",
      "  import sys\n",
      "/opt/conda/lib/python3.7/site-packages/ipykernel_launcher.py:9: UserWarning: PySoundFile failed. Trying audioread instead.\n",
      "  if __name__ == '__main__':\n",
      "/opt/conda/lib/python3.7/site-packages/ipykernel_launcher.py:10: UserWarning: PySoundFile failed. Trying audioread instead.\n",
      "  # Remove the CWD from sys.path while we load stuff.\n"
     ]
    },
    {
     "name": "stdout",
     "output_type": "stream",
     "text": [
      "tensor([0.9566], device='cuda:0')\n",
      "tensor([0.8595], device='cuda:0')\n",
      "tensor([0.8587], device='cuda:0')\n",
      "tensor([0.8864], device='cuda:0')\n",
      "Epoch 52\n",
      "-------------------------------\n",
      "loss_avg_all_batches: 0.05349379568422179\n",
      "Test Error: \n",
      " Avg loss: 0.065777 \n"
     ]
    },
    {
     "name": "stderr",
     "output_type": "stream",
     "text": [
      "/opt/conda/lib/python3.7/site-packages/ipykernel_launcher.py:6: UserWarning: PySoundFile failed. Trying audioread instead.\n",
      "  \n",
      "/opt/conda/lib/python3.7/site-packages/ipykernel_launcher.py:7: UserWarning: PySoundFile failed. Trying audioread instead.\n",
      "  import sys\n",
      "/opt/conda/lib/python3.7/site-packages/ipykernel_launcher.py:9: UserWarning: PySoundFile failed. Trying audioread instead.\n",
      "  if __name__ == '__main__':\n",
      "/opt/conda/lib/python3.7/site-packages/ipykernel_launcher.py:10: UserWarning: PySoundFile failed. Trying audioread instead.\n",
      "  # Remove the CWD from sys.path while we load stuff.\n"
     ]
    },
    {
     "name": "stdout",
     "output_type": "stream",
     "text": [
      "tensor([0.9545], device='cuda:0')\n",
      "tensor([0.8547], device='cuda:0')\n",
      "tensor([0.8519], device='cuda:0')\n",
      "tensor([0.8554], device='cuda:0')\n",
      "Epoch 53\n",
      "-------------------------------\n",
      "loss_avg_all_batches: 0.052843207134042024\n",
      "Test Error: \n",
      " Avg loss: 0.069070 \n"
     ]
    },
    {
     "name": "stderr",
     "output_type": "stream",
     "text": [
      "/opt/conda/lib/python3.7/site-packages/ipykernel_launcher.py:6: UserWarning: PySoundFile failed. Trying audioread instead.\n",
      "  \n",
      "/opt/conda/lib/python3.7/site-packages/ipykernel_launcher.py:7: UserWarning: PySoundFile failed. Trying audioread instead.\n",
      "  import sys\n",
      "/opt/conda/lib/python3.7/site-packages/ipykernel_launcher.py:9: UserWarning: PySoundFile failed. Trying audioread instead.\n",
      "  if __name__ == '__main__':\n",
      "/opt/conda/lib/python3.7/site-packages/ipykernel_launcher.py:10: UserWarning: PySoundFile failed. Trying audioread instead.\n",
      "  # Remove the CWD from sys.path while we load stuff.\n"
     ]
    },
    {
     "name": "stdout",
     "output_type": "stream",
     "text": [
      "tensor([0.9722], device='cuda:0')\n",
      "tensor([0.9031], device='cuda:0')\n",
      "tensor([0.8765], device='cuda:0')\n",
      "tensor([0.8992], device='cuda:0')\n",
      "Epoch 54\n",
      "-------------------------------\n",
      "loss_avg_all_batches: 0.04923673896217291\n",
      "Test Error: \n",
      " Avg loss: 0.062050 \n"
     ]
    },
    {
     "name": "stderr",
     "output_type": "stream",
     "text": [
      "/opt/conda/lib/python3.7/site-packages/ipykernel_launcher.py:6: UserWarning: PySoundFile failed. Trying audioread instead.\n",
      "  \n",
      "/opt/conda/lib/python3.7/site-packages/ipykernel_launcher.py:7: UserWarning: PySoundFile failed. Trying audioread instead.\n",
      "  import sys\n",
      "/opt/conda/lib/python3.7/site-packages/ipykernel_launcher.py:9: UserWarning: PySoundFile failed. Trying audioread instead.\n",
      "  if __name__ == '__main__':\n",
      "/opt/conda/lib/python3.7/site-packages/ipykernel_launcher.py:10: UserWarning: PySoundFile failed. Trying audioread instead.\n",
      "  # Remove the CWD from sys.path while we load stuff.\n"
     ]
    },
    {
     "name": "stdout",
     "output_type": "stream",
     "text": [
      "tensor([0.9584], device='cuda:0')\n",
      "tensor([0.8148], device='cuda:0')\n",
      "tensor([0.8376], device='cuda:0')\n",
      "tensor([0.9031], device='cuda:0')\n",
      "#################SAVING_MODEL###################\n",
      "\n",
      "Epoch 55\n",
      "-------------------------------\n",
      "loss_avg_all_batches: 0.04955615130090953\n",
      "Test Error: \n",
      " Avg loss: 0.062228 \n"
     ]
    },
    {
     "name": "stderr",
     "output_type": "stream",
     "text": [
      "/opt/conda/lib/python3.7/site-packages/ipykernel_launcher.py:6: UserWarning: PySoundFile failed. Trying audioread instead.\n",
      "  \n",
      "/opt/conda/lib/python3.7/site-packages/ipykernel_launcher.py:7: UserWarning: PySoundFile failed. Trying audioread instead.\n",
      "  import sys\n",
      "/opt/conda/lib/python3.7/site-packages/ipykernel_launcher.py:9: UserWarning: PySoundFile failed. Trying audioread instead.\n",
      "  if __name__ == '__main__':\n",
      "/opt/conda/lib/python3.7/site-packages/ipykernel_launcher.py:10: UserWarning: PySoundFile failed. Trying audioread instead.\n",
      "  # Remove the CWD from sys.path while we load stuff.\n"
     ]
    },
    {
     "name": "stdout",
     "output_type": "stream",
     "text": [
      "tensor([0.9550], device='cuda:0')\n",
      "tensor([0.8541], device='cuda:0')\n",
      "tensor([0.8480], device='cuda:0')\n",
      "tensor([0.8650], device='cuda:0')\n",
      "Epoch 56\n",
      "-------------------------------\n",
      "loss_avg_all_batches: 0.05065362856878179\n",
      "Test Error: \n",
      " Avg loss: 0.060447 \n"
     ]
    },
    {
     "name": "stderr",
     "output_type": "stream",
     "text": [
      "/opt/conda/lib/python3.7/site-packages/ipykernel_launcher.py:6: UserWarning: PySoundFile failed. Trying audioread instead.\n",
      "  \n",
      "/opt/conda/lib/python3.7/site-packages/ipykernel_launcher.py:7: UserWarning: PySoundFile failed. Trying audioread instead.\n",
      "  import sys\n",
      "/opt/conda/lib/python3.7/site-packages/ipykernel_launcher.py:9: UserWarning: PySoundFile failed. Trying audioread instead.\n",
      "  if __name__ == '__main__':\n",
      "/opt/conda/lib/python3.7/site-packages/ipykernel_launcher.py:10: UserWarning: PySoundFile failed. Trying audioread instead.\n",
      "  # Remove the CWD from sys.path while we load stuff.\n"
     ]
    },
    {
     "name": "stdout",
     "output_type": "stream",
     "text": [
      "tensor([0.9445], device='cuda:0')\n",
      "tensor([0.8491], device='cuda:0')\n",
      "tensor([0.8031], device='cuda:0')\n",
      "tensor([0.8556], device='cuda:0')\n",
      "#################SAVING_MODEL###################\n",
      "\n",
      "Epoch 57\n",
      "-------------------------------\n",
      "loss_avg_all_batches: 0.046577840968524166\n",
      "Test Error: \n",
      " Avg loss: 0.061336 \n"
     ]
    },
    {
     "name": "stderr",
     "output_type": "stream",
     "text": [
      "/opt/conda/lib/python3.7/site-packages/ipykernel_launcher.py:6: UserWarning: PySoundFile failed. Trying audioread instead.\n",
      "  \n",
      "/opt/conda/lib/python3.7/site-packages/ipykernel_launcher.py:7: UserWarning: PySoundFile failed. Trying audioread instead.\n",
      "  import sys\n",
      "/opt/conda/lib/python3.7/site-packages/ipykernel_launcher.py:9: UserWarning: PySoundFile failed. Trying audioread instead.\n",
      "  if __name__ == '__main__':\n",
      "/opt/conda/lib/python3.7/site-packages/ipykernel_launcher.py:10: UserWarning: PySoundFile failed. Trying audioread instead.\n",
      "  # Remove the CWD from sys.path while we load stuff.\n"
     ]
    },
    {
     "name": "stdout",
     "output_type": "stream",
     "text": [
      "tensor([0.9610], device='cuda:0')\n",
      "tensor([0.8701], device='cuda:0')\n",
      "tensor([0.8798], device='cuda:0')\n",
      "tensor([0.8898], device='cuda:0')\n",
      "Epoch 58\n",
      "-------------------------------\n",
      "loss_avg_all_batches: 0.045283022496387326\n",
      "Test Error: \n",
      " Avg loss: 0.057807 \n"
     ]
    },
    {
     "name": "stderr",
     "output_type": "stream",
     "text": [
      "/opt/conda/lib/python3.7/site-packages/ipykernel_launcher.py:6: UserWarning: PySoundFile failed. Trying audioread instead.\n",
      "  \n",
      "/opt/conda/lib/python3.7/site-packages/ipykernel_launcher.py:7: UserWarning: PySoundFile failed. Trying audioread instead.\n",
      "  import sys\n",
      "/opt/conda/lib/python3.7/site-packages/ipykernel_launcher.py:9: UserWarning: PySoundFile failed. Trying audioread instead.\n",
      "  if __name__ == '__main__':\n",
      "/opt/conda/lib/python3.7/site-packages/ipykernel_launcher.py:10: UserWarning: PySoundFile failed. Trying audioread instead.\n",
      "  # Remove the CWD from sys.path while we load stuff.\n"
     ]
    },
    {
     "name": "stdout",
     "output_type": "stream",
     "text": [
      "tensor([0.9699], device='cuda:0')\n",
      "tensor([0.8393], device='cuda:0')\n",
      "tensor([0.8746], device='cuda:0')\n",
      "tensor([0.8802], device='cuda:0')\n",
      "#################SAVING_MODEL###################\n",
      "\n",
      "Epoch 59\n",
      "-------------------------------\n",
      "loss_avg_all_batches: 0.04482619947874255\n",
      "Test Error: \n",
      " Avg loss: 0.055395 \n"
     ]
    },
    {
     "name": "stderr",
     "output_type": "stream",
     "text": [
      "/opt/conda/lib/python3.7/site-packages/ipykernel_launcher.py:6: UserWarning: PySoundFile failed. Trying audioread instead.\n",
      "  \n",
      "/opt/conda/lib/python3.7/site-packages/ipykernel_launcher.py:7: UserWarning: PySoundFile failed. Trying audioread instead.\n",
      "  import sys\n",
      "/opt/conda/lib/python3.7/site-packages/ipykernel_launcher.py:9: UserWarning: PySoundFile failed. Trying audioread instead.\n",
      "  if __name__ == '__main__':\n",
      "/opt/conda/lib/python3.7/site-packages/ipykernel_launcher.py:10: UserWarning: PySoundFile failed. Trying audioread instead.\n",
      "  # Remove the CWD from sys.path while we load stuff.\n"
     ]
    },
    {
     "name": "stdout",
     "output_type": "stream",
     "text": [
      "tensor([0.9467], device='cuda:0')\n",
      "tensor([0.8248], device='cuda:0')\n",
      "tensor([0.8484], device='cuda:0')\n",
      "tensor([0.8825], device='cuda:0')\n",
      "#################SAVING_MODEL###################\n",
      "\n",
      "Epoch 60\n",
      "-------------------------------\n",
      "loss_avg_all_batches: 0.0424950138768943\n",
      "Test Error: \n",
      " Avg loss: 0.055479 \n"
     ]
    },
    {
     "name": "stderr",
     "output_type": "stream",
     "text": [
      "/opt/conda/lib/python3.7/site-packages/ipykernel_launcher.py:6: UserWarning: PySoundFile failed. Trying audioread instead.\n",
      "  \n",
      "/opt/conda/lib/python3.7/site-packages/ipykernel_launcher.py:7: UserWarning: PySoundFile failed. Trying audioread instead.\n",
      "  import sys\n",
      "/opt/conda/lib/python3.7/site-packages/ipykernel_launcher.py:9: UserWarning: PySoundFile failed. Trying audioread instead.\n",
      "  if __name__ == '__main__':\n",
      "/opt/conda/lib/python3.7/site-packages/ipykernel_launcher.py:10: UserWarning: PySoundFile failed. Trying audioread instead.\n",
      "  # Remove the CWD from sys.path while we load stuff.\n"
     ]
    },
    {
     "name": "stdout",
     "output_type": "stream",
     "text": [
      "tensor([0.9500], device='cuda:0')\n",
      "tensor([0.8257], device='cuda:0')\n",
      "tensor([0.8357], device='cuda:0')\n",
      "tensor([0.8545], device='cuda:0')\n",
      "Epoch 61\n",
      "-------------------------------\n",
      "loss_avg_all_batches: 0.04354536569601117\n",
      "Test Error: \n",
      " Avg loss: 0.056289 \n"
     ]
    },
    {
     "name": "stderr",
     "output_type": "stream",
     "text": [
      "/opt/conda/lib/python3.7/site-packages/ipykernel_launcher.py:6: UserWarning: PySoundFile failed. Trying audioread instead.\n",
      "  \n",
      "/opt/conda/lib/python3.7/site-packages/ipykernel_launcher.py:7: UserWarning: PySoundFile failed. Trying audioread instead.\n",
      "  import sys\n",
      "/opt/conda/lib/python3.7/site-packages/ipykernel_launcher.py:9: UserWarning: PySoundFile failed. Trying audioread instead.\n",
      "  if __name__ == '__main__':\n",
      "/opt/conda/lib/python3.7/site-packages/ipykernel_launcher.py:10: UserWarning: PySoundFile failed. Trying audioread instead.\n",
      "  # Remove the CWD from sys.path while we load stuff.\n"
     ]
    },
    {
     "name": "stdout",
     "output_type": "stream",
     "text": [
      "tensor([0.9422], device='cuda:0')\n",
      "tensor([0.8331], device='cuda:0')\n",
      "tensor([0.8374], device='cuda:0')\n",
      "tensor([0.8780], device='cuda:0')\n",
      "Epoch 62\n",
      "-------------------------------\n",
      "loss_avg_all_batches: 0.04372440261574644\n",
      "Test Error: \n",
      " Avg loss: 0.052510 \n"
     ]
    },
    {
     "name": "stderr",
     "output_type": "stream",
     "text": [
      "/opt/conda/lib/python3.7/site-packages/ipykernel_launcher.py:6: UserWarning: PySoundFile failed. Trying audioread instead.\n",
      "  \n",
      "/opt/conda/lib/python3.7/site-packages/ipykernel_launcher.py:7: UserWarning: PySoundFile failed. Trying audioread instead.\n",
      "  import sys\n",
      "/opt/conda/lib/python3.7/site-packages/ipykernel_launcher.py:9: UserWarning: PySoundFile failed. Trying audioread instead.\n",
      "  if __name__ == '__main__':\n",
      "/opt/conda/lib/python3.7/site-packages/ipykernel_launcher.py:10: UserWarning: PySoundFile failed. Trying audioread instead.\n",
      "  # Remove the CWD from sys.path while we load stuff.\n"
     ]
    },
    {
     "name": "stdout",
     "output_type": "stream",
     "text": [
      "tensor([0.9243], device='cuda:0')\n",
      "tensor([0.8133], device='cuda:0')\n",
      "tensor([0.8109], device='cuda:0')\n",
      "tensor([0.8730], device='cuda:0')\n",
      "#################SAVING_MODEL###################\n",
      "\n",
      "Epoch 63\n",
      "-------------------------------\n",
      "loss_avg_all_batches: 0.04372288275443725\n",
      "Test Error: \n",
      " Avg loss: 0.053521 \n"
     ]
    },
    {
     "name": "stderr",
     "output_type": "stream",
     "text": [
      "/opt/conda/lib/python3.7/site-packages/ipykernel_launcher.py:6: UserWarning: PySoundFile failed. Trying audioread instead.\n",
      "  \n",
      "/opt/conda/lib/python3.7/site-packages/ipykernel_launcher.py:7: UserWarning: PySoundFile failed. Trying audioread instead.\n",
      "  import sys\n",
      "/opt/conda/lib/python3.7/site-packages/ipykernel_launcher.py:9: UserWarning: PySoundFile failed. Trying audioread instead.\n",
      "  if __name__ == '__main__':\n",
      "/opt/conda/lib/python3.7/site-packages/ipykernel_launcher.py:10: UserWarning: PySoundFile failed. Trying audioread instead.\n",
      "  # Remove the CWD from sys.path while we load stuff.\n"
     ]
    },
    {
     "name": "stdout",
     "output_type": "stream",
     "text": [
      "tensor([0.9304], device='cuda:0')\n",
      "tensor([0.8090], device='cuda:0')\n",
      "tensor([0.7944], device='cuda:0')\n",
      "tensor([0.8265], device='cuda:0')\n",
      "Epoch 64\n",
      "-------------------------------\n",
      "loss_avg_all_batches: 0.042709253398495135\n",
      "Test Error: \n",
      " Avg loss: 0.053441 \n"
     ]
    },
    {
     "name": "stderr",
     "output_type": "stream",
     "text": [
      "/opt/conda/lib/python3.7/site-packages/ipykernel_launcher.py:6: UserWarning: PySoundFile failed. Trying audioread instead.\n",
      "  \n",
      "/opt/conda/lib/python3.7/site-packages/ipykernel_launcher.py:7: UserWarning: PySoundFile failed. Trying audioread instead.\n",
      "  import sys\n",
      "/opt/conda/lib/python3.7/site-packages/ipykernel_launcher.py:9: UserWarning: PySoundFile failed. Trying audioread instead.\n",
      "  if __name__ == '__main__':\n",
      "/opt/conda/lib/python3.7/site-packages/ipykernel_launcher.py:10: UserWarning: PySoundFile failed. Trying audioread instead.\n",
      "  # Remove the CWD from sys.path while we load stuff.\n"
     ]
    },
    {
     "name": "stdout",
     "output_type": "stream",
     "text": [
      "tensor([0.9622], device='cuda:0')\n",
      "tensor([0.8494], device='cuda:0')\n",
      "tensor([0.8570], device='cuda:0')\n",
      "tensor([0.8951], device='cuda:0')\n",
      "Epoch 65\n",
      "-------------------------------\n",
      "loss_avg_all_batches: 0.041814659398398055\n",
      "Test Error: \n",
      " Avg loss: 0.052346 \n"
     ]
    },
    {
     "name": "stderr",
     "output_type": "stream",
     "text": [
      "/opt/conda/lib/python3.7/site-packages/ipykernel_launcher.py:6: UserWarning: PySoundFile failed. Trying audioread instead.\n",
      "  \n",
      "/opt/conda/lib/python3.7/site-packages/ipykernel_launcher.py:7: UserWarning: PySoundFile failed. Trying audioread instead.\n",
      "  import sys\n",
      "/opt/conda/lib/python3.7/site-packages/ipykernel_launcher.py:9: UserWarning: PySoundFile failed. Trying audioread instead.\n",
      "  if __name__ == '__main__':\n",
      "/opt/conda/lib/python3.7/site-packages/ipykernel_launcher.py:10: UserWarning: PySoundFile failed. Trying audioread instead.\n",
      "  # Remove the CWD from sys.path while we load stuff.\n"
     ]
    },
    {
     "name": "stdout",
     "output_type": "stream",
     "text": [
      "tensor([0.9639], device='cuda:0')\n",
      "tensor([0.8822], device='cuda:0')\n",
      "tensor([0.8645], device='cuda:0')\n",
      "tensor([0.8933], device='cuda:0')\n",
      "#################SAVING_MODEL###################\n",
      "\n",
      "Epoch 66\n",
      "-------------------------------\n",
      "loss_avg_all_batches: 0.042721418942764676\n",
      "Test Error: \n",
      " Avg loss: 0.054354 \n"
     ]
    },
    {
     "name": "stderr",
     "output_type": "stream",
     "text": [
      "/opt/conda/lib/python3.7/site-packages/ipykernel_launcher.py:6: UserWarning: PySoundFile failed. Trying audioread instead.\n",
      "  \n",
      "/opt/conda/lib/python3.7/site-packages/ipykernel_launcher.py:7: UserWarning: PySoundFile failed. Trying audioread instead.\n",
      "  import sys\n",
      "/opt/conda/lib/python3.7/site-packages/ipykernel_launcher.py:9: UserWarning: PySoundFile failed. Trying audioread instead.\n",
      "  if __name__ == '__main__':\n",
      "/opt/conda/lib/python3.7/site-packages/ipykernel_launcher.py:10: UserWarning: PySoundFile failed. Trying audioread instead.\n",
      "  # Remove the CWD from sys.path while we load stuff.\n"
     ]
    },
    {
     "name": "stdout",
     "output_type": "stream",
     "text": [
      "tensor([0.9596], device='cuda:0')\n",
      "tensor([0.8547], device='cuda:0')\n",
      "tensor([0.8672], device='cuda:0')\n",
      "tensor([0.9197], device='cuda:0')\n",
      "Epoch 67\n",
      "-------------------------------\n",
      "loss_avg_all_batches: 0.041271856798615926\n",
      "Test Error: \n",
      " Avg loss: 0.048916 \n"
     ]
    },
    {
     "name": "stderr",
     "output_type": "stream",
     "text": [
      "/opt/conda/lib/python3.7/site-packages/ipykernel_launcher.py:6: UserWarning: PySoundFile failed. Trying audioread instead.\n",
      "  \n",
      "/opt/conda/lib/python3.7/site-packages/ipykernel_launcher.py:7: UserWarning: PySoundFile failed. Trying audioread instead.\n",
      "  import sys\n",
      "/opt/conda/lib/python3.7/site-packages/ipykernel_launcher.py:9: UserWarning: PySoundFile failed. Trying audioread instead.\n",
      "  if __name__ == '__main__':\n",
      "/opt/conda/lib/python3.7/site-packages/ipykernel_launcher.py:10: UserWarning: PySoundFile failed. Trying audioread instead.\n",
      "  # Remove the CWD from sys.path while we load stuff.\n"
     ]
    },
    {
     "name": "stdout",
     "output_type": "stream",
     "text": [
      "tensor([0.9584], device='cuda:0')\n",
      "tensor([0.8744], device='cuda:0')\n",
      "tensor([0.8766], device='cuda:0')\n",
      "tensor([0.9066], device='cuda:0')\n",
      "#################SAVING_MODEL###################\n",
      "\n",
      "Epoch 68\n",
      "-------------------------------\n",
      "loss_avg_all_batches: 0.03989542604701736\n",
      "Test Error: \n",
      " Avg loss: 0.049614 \n"
     ]
    },
    {
     "name": "stderr",
     "output_type": "stream",
     "text": [
      "/opt/conda/lib/python3.7/site-packages/ipykernel_launcher.py:6: UserWarning: PySoundFile failed. Trying audioread instead.\n",
      "  \n",
      "/opt/conda/lib/python3.7/site-packages/ipykernel_launcher.py:7: UserWarning: PySoundFile failed. Trying audioread instead.\n",
      "  import sys\n",
      "/opt/conda/lib/python3.7/site-packages/ipykernel_launcher.py:9: UserWarning: PySoundFile failed. Trying audioread instead.\n",
      "  if __name__ == '__main__':\n",
      "/opt/conda/lib/python3.7/site-packages/ipykernel_launcher.py:10: UserWarning: PySoundFile failed. Trying audioread instead.\n",
      "  # Remove the CWD from sys.path while we load stuff.\n"
     ]
    },
    {
     "name": "stdout",
     "output_type": "stream",
     "text": [
      "tensor([0.9345], device='cuda:0')\n",
      "tensor([0.7880], device='cuda:0')\n",
      "tensor([0.8172], device='cuda:0')\n",
      "tensor([0.8604], device='cuda:0')\n",
      "Epoch 69\n",
      "-------------------------------\n",
      "loss_avg_all_batches: 0.03998981496211053\n",
      "Test Error: \n",
      " Avg loss: 0.050515 \n"
     ]
    },
    {
     "name": "stderr",
     "output_type": "stream",
     "text": [
      "/opt/conda/lib/python3.7/site-packages/ipykernel_launcher.py:6: UserWarning: PySoundFile failed. Trying audioread instead.\n",
      "  \n",
      "/opt/conda/lib/python3.7/site-packages/ipykernel_launcher.py:7: UserWarning: PySoundFile failed. Trying audioread instead.\n",
      "  import sys\n",
      "/opt/conda/lib/python3.7/site-packages/ipykernel_launcher.py:9: UserWarning: PySoundFile failed. Trying audioread instead.\n",
      "  if __name__ == '__main__':\n",
      "/opt/conda/lib/python3.7/site-packages/ipykernel_launcher.py:10: UserWarning: PySoundFile failed. Trying audioread instead.\n",
      "  # Remove the CWD from sys.path while we load stuff.\n"
     ]
    },
    {
     "name": "stdout",
     "output_type": "stream",
     "text": [
      "tensor([0.9504], device='cuda:0')\n",
      "tensor([0.8295], device='cuda:0')\n",
      "tensor([0.8408], device='cuda:0')\n",
      "tensor([0.8766], device='cuda:0')\n",
      "Epoch 70\n",
      "-------------------------------\n",
      "loss_avg_all_batches: 0.039222553296820666\n",
      "Test Error: \n",
      " Avg loss: 0.047665 \n"
     ]
    },
    {
     "name": "stderr",
     "output_type": "stream",
     "text": [
      "/opt/conda/lib/python3.7/site-packages/ipykernel_launcher.py:6: UserWarning: PySoundFile failed. Trying audioread instead.\n",
      "  \n",
      "/opt/conda/lib/python3.7/site-packages/ipykernel_launcher.py:7: UserWarning: PySoundFile failed. Trying audioread instead.\n",
      "  import sys\n",
      "/opt/conda/lib/python3.7/site-packages/ipykernel_launcher.py:9: UserWarning: PySoundFile failed. Trying audioread instead.\n",
      "  if __name__ == '__main__':\n",
      "/opt/conda/lib/python3.7/site-packages/ipykernel_launcher.py:10: UserWarning: PySoundFile failed. Trying audioread instead.\n",
      "  # Remove the CWD from sys.path while we load stuff.\n"
     ]
    },
    {
     "name": "stdout",
     "output_type": "stream",
     "text": [
      "tensor([0.9375], device='cuda:0')\n",
      "tensor([0.8387], device='cuda:0')\n",
      "tensor([0.8154], device='cuda:0')\n",
      "tensor([0.8467], device='cuda:0')\n",
      "#################SAVING_MODEL###################\n",
      "\n",
      "Epoch 71\n",
      "-------------------------------\n",
      "loss_avg_all_batches: 0.03760329748339224\n",
      "Test Error: \n",
      " Avg loss: 0.047890 \n"
     ]
    },
    {
     "name": "stderr",
     "output_type": "stream",
     "text": [
      "/opt/conda/lib/python3.7/site-packages/ipykernel_launcher.py:6: UserWarning: PySoundFile failed. Trying audioread instead.\n",
      "  \n",
      "/opt/conda/lib/python3.7/site-packages/ipykernel_launcher.py:7: UserWarning: PySoundFile failed. Trying audioread instead.\n",
      "  import sys\n",
      "/opt/conda/lib/python3.7/site-packages/ipykernel_launcher.py:9: UserWarning: PySoundFile failed. Trying audioread instead.\n",
      "  if __name__ == '__main__':\n",
      "/opt/conda/lib/python3.7/site-packages/ipykernel_launcher.py:10: UserWarning: PySoundFile failed. Trying audioread instead.\n",
      "  # Remove the CWD from sys.path while we load stuff.\n"
     ]
    },
    {
     "name": "stdout",
     "output_type": "stream",
     "text": [
      "tensor([0.9417], device='cuda:0')\n",
      "tensor([0.8203], device='cuda:0')\n",
      "tensor([0.8228], device='cuda:0')\n",
      "tensor([0.8923], device='cuda:0')\n",
      "Epoch 72\n",
      "-------------------------------\n",
      "loss_avg_all_batches: 0.03668100856450979\n",
      "Test Error: \n",
      " Avg loss: 0.047341 \n"
     ]
    },
    {
     "name": "stderr",
     "output_type": "stream",
     "text": [
      "/opt/conda/lib/python3.7/site-packages/ipykernel_launcher.py:6: UserWarning: PySoundFile failed. Trying audioread instead.\n",
      "  \n",
      "/opt/conda/lib/python3.7/site-packages/ipykernel_launcher.py:7: UserWarning: PySoundFile failed. Trying audioread instead.\n",
      "  import sys\n",
      "/opt/conda/lib/python3.7/site-packages/ipykernel_launcher.py:9: UserWarning: PySoundFile failed. Trying audioread instead.\n",
      "  if __name__ == '__main__':\n",
      "/opt/conda/lib/python3.7/site-packages/ipykernel_launcher.py:10: UserWarning: PySoundFile failed. Trying audioread instead.\n",
      "  # Remove the CWD from sys.path while we load stuff.\n"
     ]
    },
    {
     "name": "stdout",
     "output_type": "stream",
     "text": [
      "tensor([0.9461], device='cuda:0')\n",
      "tensor([0.8315], device='cuda:0')\n",
      "tensor([0.8095], device='cuda:0')\n",
      "tensor([0.8665], device='cuda:0')\n",
      "#################SAVING_MODEL###################\n",
      "\n",
      "Epoch 73\n",
      "-------------------------------\n",
      "loss_avg_all_batches: 0.039349083007266625\n",
      "Test Error: \n",
      " Avg loss: 0.048197 \n"
     ]
    },
    {
     "name": "stderr",
     "output_type": "stream",
     "text": [
      "/opt/conda/lib/python3.7/site-packages/ipykernel_launcher.py:6: UserWarning: PySoundFile failed. Trying audioread instead.\n",
      "  \n",
      "/opt/conda/lib/python3.7/site-packages/ipykernel_launcher.py:7: UserWarning: PySoundFile failed. Trying audioread instead.\n",
      "  import sys\n",
      "/opt/conda/lib/python3.7/site-packages/ipykernel_launcher.py:9: UserWarning: PySoundFile failed. Trying audioread instead.\n",
      "  if __name__ == '__main__':\n",
      "/opt/conda/lib/python3.7/site-packages/ipykernel_launcher.py:10: UserWarning: PySoundFile failed. Trying audioread instead.\n",
      "  # Remove the CWD from sys.path while we load stuff.\n"
     ]
    },
    {
     "name": "stdout",
     "output_type": "stream",
     "text": [
      "tensor([0.9506], device='cuda:0')\n",
      "tensor([0.8299], device='cuda:0')\n",
      "tensor([0.8522], device='cuda:0')\n",
      "tensor([0.8580], device='cuda:0')\n",
      "Epoch 74\n",
      "-------------------------------\n",
      "loss_avg_all_batches: 0.039842153744560745\n",
      "Test Error: \n",
      " Avg loss: 0.047569 \n"
     ]
    },
    {
     "name": "stderr",
     "output_type": "stream",
     "text": [
      "/opt/conda/lib/python3.7/site-packages/ipykernel_launcher.py:6: UserWarning: PySoundFile failed. Trying audioread instead.\n",
      "  \n",
      "/opt/conda/lib/python3.7/site-packages/ipykernel_launcher.py:7: UserWarning: PySoundFile failed. Trying audioread instead.\n",
      "  import sys\n",
      "/opt/conda/lib/python3.7/site-packages/ipykernel_launcher.py:9: UserWarning: PySoundFile failed. Trying audioread instead.\n",
      "  if __name__ == '__main__':\n",
      "/opt/conda/lib/python3.7/site-packages/ipykernel_launcher.py:10: UserWarning: PySoundFile failed. Trying audioread instead.\n",
      "  # Remove the CWD from sys.path while we load stuff.\n"
     ]
    },
    {
     "name": "stdout",
     "output_type": "stream",
     "text": [
      "tensor([0.9734], device='cuda:0')\n",
      "tensor([0.7853], device='cuda:0')\n",
      "tensor([0.7950], device='cuda:0')\n",
      "tensor([0.8618], device='cuda:0')\n",
      "Epoch 75\n",
      "-------------------------------\n",
      "loss_avg_all_batches: 0.037576060595315215\n",
      "Test Error: \n",
      " Avg loss: 0.046248 \n"
     ]
    },
    {
     "name": "stderr",
     "output_type": "stream",
     "text": [
      "/opt/conda/lib/python3.7/site-packages/ipykernel_launcher.py:6: UserWarning: PySoundFile failed. Trying audioread instead.\n",
      "  \n",
      "/opt/conda/lib/python3.7/site-packages/ipykernel_launcher.py:7: UserWarning: PySoundFile failed. Trying audioread instead.\n",
      "  import sys\n",
      "/opt/conda/lib/python3.7/site-packages/ipykernel_launcher.py:9: UserWarning: PySoundFile failed. Trying audioread instead.\n",
      "  if __name__ == '__main__':\n",
      "/opt/conda/lib/python3.7/site-packages/ipykernel_launcher.py:10: UserWarning: PySoundFile failed. Trying audioread instead.\n",
      "  # Remove the CWD from sys.path while we load stuff.\n"
     ]
    },
    {
     "name": "stdout",
     "output_type": "stream",
     "text": [
      "tensor([0.9606], device='cuda:0')\n",
      "tensor([0.8007], device='cuda:0')\n",
      "tensor([0.8005], device='cuda:0')\n",
      "tensor([0.8637], device='cuda:0')\n",
      "#################SAVING_MODEL###################\n",
      "\n",
      "Epoch 76\n",
      "-------------------------------\n",
      "loss_avg_all_batches: 0.0361741267195055\n",
      "Test Error: \n",
      " Avg loss: 0.045827 \n"
     ]
    },
    {
     "name": "stderr",
     "output_type": "stream",
     "text": [
      "/opt/conda/lib/python3.7/site-packages/ipykernel_launcher.py:6: UserWarning: PySoundFile failed. Trying audioread instead.\n",
      "  \n",
      "/opt/conda/lib/python3.7/site-packages/ipykernel_launcher.py:7: UserWarning: PySoundFile failed. Trying audioread instead.\n",
      "  import sys\n",
      "/opt/conda/lib/python3.7/site-packages/ipykernel_launcher.py:9: UserWarning: PySoundFile failed. Trying audioread instead.\n",
      "  if __name__ == '__main__':\n",
      "/opt/conda/lib/python3.7/site-packages/ipykernel_launcher.py:10: UserWarning: PySoundFile failed. Trying audioread instead.\n",
      "  # Remove the CWD from sys.path while we load stuff.\n"
     ]
    },
    {
     "name": "stdout",
     "output_type": "stream",
     "text": [
      "tensor([0.9642], device='cuda:0')\n",
      "tensor([0.7849], device='cuda:0')\n",
      "tensor([0.8200], device='cuda:0')\n",
      "tensor([0.8687], device='cuda:0')\n",
      "#################SAVING_MODEL###################\n",
      "\n",
      "Epoch 77\n",
      "-------------------------------\n",
      "loss_avg_all_batches: 0.03559881801739099\n",
      "Test Error: \n",
      " Avg loss: 0.042851 \n"
     ]
    },
    {
     "name": "stderr",
     "output_type": "stream",
     "text": [
      "/opt/conda/lib/python3.7/site-packages/ipykernel_launcher.py:6: UserWarning: PySoundFile failed. Trying audioread instead.\n",
      "  \n",
      "/opt/conda/lib/python3.7/site-packages/ipykernel_launcher.py:7: UserWarning: PySoundFile failed. Trying audioread instead.\n",
      "  import sys\n",
      "/opt/conda/lib/python3.7/site-packages/ipykernel_launcher.py:9: UserWarning: PySoundFile failed. Trying audioread instead.\n",
      "  if __name__ == '__main__':\n",
      "/opt/conda/lib/python3.7/site-packages/ipykernel_launcher.py:10: UserWarning: PySoundFile failed. Trying audioread instead.\n",
      "  # Remove the CWD from sys.path while we load stuff.\n"
     ]
    },
    {
     "name": "stdout",
     "output_type": "stream",
     "text": [
      "tensor([0.9521], device='cuda:0')\n",
      "tensor([0.8118], device='cuda:0')\n",
      "tensor([0.8269], device='cuda:0')\n",
      "tensor([0.8567], device='cuda:0')\n",
      "#################SAVING_MODEL###################\n",
      "\n",
      "Epoch 78\n",
      "-------------------------------\n",
      "loss_avg_all_batches: 0.03546952913235136\n",
      "Test Error: \n",
      " Avg loss: 0.044218 \n"
     ]
    },
    {
     "name": "stderr",
     "output_type": "stream",
     "text": [
      "/opt/conda/lib/python3.7/site-packages/ipykernel_launcher.py:6: UserWarning: PySoundFile failed. Trying audioread instead.\n",
      "  \n",
      "/opt/conda/lib/python3.7/site-packages/ipykernel_launcher.py:7: UserWarning: PySoundFile failed. Trying audioread instead.\n",
      "  import sys\n",
      "/opt/conda/lib/python3.7/site-packages/ipykernel_launcher.py:9: UserWarning: PySoundFile failed. Trying audioread instead.\n",
      "  if __name__ == '__main__':\n",
      "/opt/conda/lib/python3.7/site-packages/ipykernel_launcher.py:10: UserWarning: PySoundFile failed. Trying audioread instead.\n",
      "  # Remove the CWD from sys.path while we load stuff.\n"
     ]
    },
    {
     "name": "stdout",
     "output_type": "stream",
     "text": [
      "tensor([0.9571], device='cuda:0')\n",
      "tensor([0.8296], device='cuda:0')\n",
      "tensor([0.8104], device='cuda:0')\n",
      "tensor([0.8890], device='cuda:0')\n",
      "Epoch 79\n",
      "-------------------------------\n",
      "loss_avg_all_batches: 0.03622455107438867\n",
      "Test Error: \n",
      " Avg loss: 0.044560 \n"
     ]
    },
    {
     "name": "stderr",
     "output_type": "stream",
     "text": [
      "/opt/conda/lib/python3.7/site-packages/ipykernel_launcher.py:6: UserWarning: PySoundFile failed. Trying audioread instead.\n",
      "  \n",
      "/opt/conda/lib/python3.7/site-packages/ipykernel_launcher.py:7: UserWarning: PySoundFile failed. Trying audioread instead.\n",
      "  import sys\n",
      "/opt/conda/lib/python3.7/site-packages/ipykernel_launcher.py:9: UserWarning: PySoundFile failed. Trying audioread instead.\n",
      "  if __name__ == '__main__':\n",
      "/opt/conda/lib/python3.7/site-packages/ipykernel_launcher.py:10: UserWarning: PySoundFile failed. Trying audioread instead.\n",
      "  # Remove the CWD from sys.path while we load stuff.\n"
     ]
    },
    {
     "name": "stdout",
     "output_type": "stream",
     "text": [
      "tensor([0.9511], device='cuda:0')\n",
      "tensor([0.8432], device='cuda:0')\n",
      "tensor([0.8652], device='cuda:0')\n",
      "tensor([0.8855], device='cuda:0')\n",
      "Epoch 80\n",
      "-------------------------------\n",
      "loss_avg_all_batches: 0.03410280290757623\n",
      "Test Error: \n",
      " Avg loss: 0.043855 \n"
     ]
    },
    {
     "name": "stderr",
     "output_type": "stream",
     "text": [
      "/opt/conda/lib/python3.7/site-packages/ipykernel_launcher.py:6: UserWarning: PySoundFile failed. Trying audioread instead.\n",
      "  \n",
      "/opt/conda/lib/python3.7/site-packages/ipykernel_launcher.py:7: UserWarning: PySoundFile failed. Trying audioread instead.\n",
      "  import sys\n",
      "/opt/conda/lib/python3.7/site-packages/ipykernel_launcher.py:9: UserWarning: PySoundFile failed. Trying audioread instead.\n",
      "  if __name__ == '__main__':\n",
      "/opt/conda/lib/python3.7/site-packages/ipykernel_launcher.py:10: UserWarning: PySoundFile failed. Trying audioread instead.\n",
      "  # Remove the CWD from sys.path while we load stuff.\n"
     ]
    },
    {
     "name": "stdout",
     "output_type": "stream",
     "text": [
      "tensor([0.9469], device='cuda:0')\n",
      "tensor([0.7679], device='cuda:0')\n",
      "tensor([0.7993], device='cuda:0')\n",
      "tensor([0.8376], device='cuda:0')\n",
      "Epoch 81\n",
      "-------------------------------\n",
      "loss_avg_all_batches: 0.03253170115367011\n",
      "Test Error: \n",
      " Avg loss: 0.040650 \n"
     ]
    },
    {
     "name": "stderr",
     "output_type": "stream",
     "text": [
      "/opt/conda/lib/python3.7/site-packages/ipykernel_launcher.py:6: UserWarning: PySoundFile failed. Trying audioread instead.\n",
      "  \n",
      "/opt/conda/lib/python3.7/site-packages/ipykernel_launcher.py:7: UserWarning: PySoundFile failed. Trying audioread instead.\n",
      "  import sys\n",
      "/opt/conda/lib/python3.7/site-packages/ipykernel_launcher.py:9: UserWarning: PySoundFile failed. Trying audioread instead.\n",
      "  if __name__ == '__main__':\n",
      "/opt/conda/lib/python3.7/site-packages/ipykernel_launcher.py:10: UserWarning: PySoundFile failed. Trying audioread instead.\n",
      "  # Remove the CWD from sys.path while we load stuff.\n"
     ]
    },
    {
     "name": "stdout",
     "output_type": "stream",
     "text": [
      "tensor([0.9481], device='cuda:0')\n",
      "tensor([0.7802], device='cuda:0')\n",
      "tensor([0.7713], device='cuda:0')\n",
      "tensor([0.8739], device='cuda:0')\n",
      "#################SAVING_MODEL###################\n",
      "\n",
      "Epoch 82\n",
      "-------------------------------\n",
      "loss_avg_all_batches: 0.032414569392294125\n",
      "Test Error: \n",
      " Avg loss: 0.040955 \n"
     ]
    },
    {
     "name": "stderr",
     "output_type": "stream",
     "text": [
      "/opt/conda/lib/python3.7/site-packages/ipykernel_launcher.py:6: UserWarning: PySoundFile failed. Trying audioread instead.\n",
      "  \n",
      "/opt/conda/lib/python3.7/site-packages/ipykernel_launcher.py:7: UserWarning: PySoundFile failed. Trying audioread instead.\n",
      "  import sys\n",
      "/opt/conda/lib/python3.7/site-packages/ipykernel_launcher.py:9: UserWarning: PySoundFile failed. Trying audioread instead.\n",
      "  if __name__ == '__main__':\n",
      "/opt/conda/lib/python3.7/site-packages/ipykernel_launcher.py:10: UserWarning: PySoundFile failed. Trying audioread instead.\n",
      "  # Remove the CWD from sys.path while we load stuff.\n"
     ]
    },
    {
     "name": "stdout",
     "output_type": "stream",
     "text": [
      "tensor([0.9496], device='cuda:0')\n",
      "tensor([0.7959], device='cuda:0')\n",
      "tensor([0.8211], device='cuda:0')\n",
      "tensor([0.8713], device='cuda:0')\n",
      "Epoch 83\n",
      "-------------------------------\n",
      "loss_avg_all_batches: 0.03116184784686758\n",
      "Test Error: \n",
      " Avg loss: 0.043498 \n"
     ]
    },
    {
     "name": "stderr",
     "output_type": "stream",
     "text": [
      "/opt/conda/lib/python3.7/site-packages/ipykernel_launcher.py:6: UserWarning: PySoundFile failed. Trying audioread instead.\n",
      "  \n",
      "/opt/conda/lib/python3.7/site-packages/ipykernel_launcher.py:7: UserWarning: PySoundFile failed. Trying audioread instead.\n",
      "  import sys\n",
      "/opt/conda/lib/python3.7/site-packages/ipykernel_launcher.py:9: UserWarning: PySoundFile failed. Trying audioread instead.\n",
      "  if __name__ == '__main__':\n",
      "/opt/conda/lib/python3.7/site-packages/ipykernel_launcher.py:10: UserWarning: PySoundFile failed. Trying audioread instead.\n",
      "  # Remove the CWD from sys.path while we load stuff.\n"
     ]
    },
    {
     "name": "stdout",
     "output_type": "stream",
     "text": [
      "tensor([0.9476], device='cuda:0')\n",
      "tensor([0.7571], device='cuda:0')\n",
      "tensor([0.7537], device='cuda:0')\n",
      "tensor([0.8572], device='cuda:0')\n",
      "Epoch 84\n",
      "-------------------------------\n",
      "loss_avg_all_batches: 0.03539412655427777\n",
      "Test Error: \n",
      " Avg loss: 0.040795 \n"
     ]
    },
    {
     "name": "stderr",
     "output_type": "stream",
     "text": [
      "/opt/conda/lib/python3.7/site-packages/ipykernel_launcher.py:6: UserWarning: PySoundFile failed. Trying audioread instead.\n",
      "  \n",
      "/opt/conda/lib/python3.7/site-packages/ipykernel_launcher.py:7: UserWarning: PySoundFile failed. Trying audioread instead.\n",
      "  import sys\n",
      "/opt/conda/lib/python3.7/site-packages/ipykernel_launcher.py:9: UserWarning: PySoundFile failed. Trying audioread instead.\n",
      "  if __name__ == '__main__':\n",
      "/opt/conda/lib/python3.7/site-packages/ipykernel_launcher.py:10: UserWarning: PySoundFile failed. Trying audioread instead.\n",
      "  # Remove the CWD from sys.path while we load stuff.\n"
     ]
    },
    {
     "name": "stdout",
     "output_type": "stream",
     "text": [
      "tensor([0.9549], device='cuda:0')\n",
      "tensor([0.8195], device='cuda:0')\n",
      "tensor([0.8236], device='cuda:0')\n",
      "tensor([0.9038], device='cuda:0')\n",
      "Epoch 85\n",
      "-------------------------------\n",
      "loss_avg_all_batches: 0.03675144420086472\n",
      "Test Error: \n",
      " Avg loss: 0.041811 \n"
     ]
    },
    {
     "name": "stderr",
     "output_type": "stream",
     "text": [
      "/opt/conda/lib/python3.7/site-packages/ipykernel_launcher.py:6: UserWarning: PySoundFile failed. Trying audioread instead.\n",
      "  \n",
      "/opt/conda/lib/python3.7/site-packages/ipykernel_launcher.py:7: UserWarning: PySoundFile failed. Trying audioread instead.\n",
      "  import sys\n",
      "/opt/conda/lib/python3.7/site-packages/ipykernel_launcher.py:9: UserWarning: PySoundFile failed. Trying audioread instead.\n",
      "  if __name__ == '__main__':\n",
      "/opt/conda/lib/python3.7/site-packages/ipykernel_launcher.py:10: UserWarning: PySoundFile failed. Trying audioread instead.\n",
      "  # Remove the CWD from sys.path while we load stuff.\n"
     ]
    },
    {
     "name": "stdout",
     "output_type": "stream",
     "text": [
      "tensor([0.9344], device='cuda:0')\n",
      "tensor([0.8155], device='cuda:0')\n",
      "tensor([0.8199], device='cuda:0')\n",
      "tensor([0.8851], device='cuda:0')\n",
      "Done!\n"
     ]
    }
   ],
   "source": [
    "epochs = 85\n",
    "for t in range(epochs):\n",
    "    print(f\"Epoch {t+1}\\n-------------------------------\")\n",
    "    loss_train = train(train_dataloader, model, loss_fn, optimizer)\n",
    "    cost_train.append(loss_train)\n",
    "    scheduler.step(loss_train)\n",
    "    loss_test = test(train_dataloader, model, loss_fn)\n",
    "    cost_validation.append(loss_test)\n",
    "    \n",
    "    ts1,ts2,ts3,ts4 = checker(model)\n",
    "    print(ts1)\n",
    "    print(ts2)\n",
    "    print(ts3)\n",
    "    print(ts4)\n",
    "    s1.append(ts1)\n",
    "    s2.append(ts2)\n",
    "    s3.append(ts3)\n",
    "    s4.append(ts4)\n",
    "\n",
    "#     model.eval()\n",
    "#     vr1_proj = model(v1.unsqueeze(1))\n",
    "#     vr2_proj = model(v2.unsqueeze(1))\n",
    "#     similarity_matrix = F.cosine_similarity(vr1_proj, vr2_proj, dim=1)\n",
    "#     print(f\"similarity :{similarity_matrix.item()}\\n\")\n",
    "#     s = similarity_matrix.item()\n",
    "#     similarity_score.append(s)\n",
    "#     print(p)\n",
    "    if(loss_test<min_loss):\n",
    "        torch.save(model.state_dict(), \"./model_min_state\")\n",
    "        print(\"#################SAVING_MODEL###################\\n\")\n",
    "        min_loss = loss_test\n",
    "        p = 0\n",
    "    if(loss_test > min_loss):\n",
    "        p = p+1\n",
    "    if(p == 20):\n",
    "        break\n",
    "print(\"Done!\")"
   ]
  },
  {
   "cell_type": "code",
   "execution_count": 23,
   "id": "8c00a050",
   "metadata": {
    "execution": {
     "iopub.execute_input": "2022-03-10T01:53:45.774576Z",
     "iopub.status.busy": "2022-03-10T01:53:45.773503Z",
     "iopub.status.idle": "2022-03-10T01:53:46.215001Z",
     "shell.execute_reply": "2022-03-10T01:53:46.215512Z",
     "shell.execute_reply.started": "2022-03-09T14:13:59.110687Z"
    },
    "papermill": {
     "duration": 0.745716,
     "end_time": "2022-03-10T01:53:46.215717",
     "exception": false,
     "start_time": "2022-03-10T01:53:45.470001",
     "status": "completed"
    },
    "tags": []
   },
   "outputs": [],
   "source": [
    "torch.save({\n",
    "            'epoch': epochs,\n",
    "            'model_state_dict': model.state_dict(),\n",
    "            'optimizer_state_dict': optimizer.state_dict(),\n",
    "            }, \"./model_checkpoint.pt\")"
   ]
  },
  {
   "cell_type": "code",
   "execution_count": 24,
   "id": "da038089",
   "metadata": {
    "execution": {
     "iopub.execute_input": "2022-03-10T01:53:46.833186Z",
     "iopub.status.busy": "2022-03-10T01:53:46.832464Z",
     "iopub.status.idle": "2022-03-10T01:53:47.109751Z",
     "shell.execute_reply": "2022-03-10T01:53:47.110322Z",
     "shell.execute_reply.started": "2022-03-09T14:14:02.488362Z"
    },
    "papermill": {
     "duration": 0.592838,
     "end_time": "2022-03-10T01:53:47.110509",
     "exception": false,
     "start_time": "2022-03-10T01:53:46.517671",
     "status": "completed"
    },
    "tags": []
   },
   "outputs": [
    {
     "data": {
      "image/png": "[encoded data removed]",
      "text/plain": [
       "<Figure size 432x288 with 1 Axes>"
      ]
     },
     "metadata": {
      "needs_background": "light"
     },
     "output_type": "display_data"
    }
   ],
   "source": [
    "costs_tr = np.squeeze(cost_train)\n",
    "costs_ts = np.squeeze(cost_validation)\n",
    "# simi = np.squeeze(similarity_score)\n",
    "plt.plot(costs_tr, label= 'train_loss')\n",
    "plt.plot(costs_ts, label= 'test_loss')\n",
    "# plt.plot(simi, label= 'similarity')\n",
    "plt.ylabel('cost')\n",
    "plt.xlabel('epoches')\n",
    "plt.title(\"Learning rate =1e-3\")\n",
    "legend = plt.legend(loc='upper center', shadow=True)\n",
    "frame = legend.get_frame()\n",
    "frame.set_facecolor('0.90')\n",
    "plt.show()"
   ]
  },
  {
   "cell_type": "code",
   "execution_count": 25,
   "id": "9f5e603b",
   "metadata": {
    "execution": {
     "iopub.execute_input": "2022-03-10T01:53:47.844850Z",
     "iopub.status.busy": "2022-03-10T01:53:47.838298Z",
     "iopub.status.idle": "2022-03-10T01:53:48.092710Z",
     "shell.execute_reply": "2022-03-10T01:53:48.093281Z",
     "shell.execute_reply.started": "2022-03-09T14:14:10.75411Z"
    },
    "papermill": {
     "duration": 0.596195,
     "end_time": "2022-03-10T01:53:48.093463",
     "exception": false,
     "start_time": "2022-03-10T01:53:47.497268",
     "status": "completed"
    },
    "tags": []
   },
   "outputs": [
    {
     "data": {
      "image/png": "[encoded data removed]",
      "text/plain": [
       "<Figure size 1440x720 with 1 Axes>"
      ]
     },
     "metadata": {
      "needs_background": "light"
     },
     "output_type": "display_data"
    }
   ],
   "source": [
    "plt.figure(figsize=(20,10))\n",
    "plt.plot(costs_tr, label= 'train_loss')\n",
    "plt.plot(costs_ts, label= 'test_loss')\n",
    "# plt.plot(simi, label= 'similarity')\n",
    "plt.ylabel('cost')\n",
    "plt.xlabel('epoches')\n",
    "plt.title(\"Learning rate =1e-3\")\n",
    "legend = plt.legend(loc='upper center', shadow=True)\n",
    "frame = legend.get_frame()\n",
    "frame.set_facecolor('0.90')\n",
    "plt.show()"
   ]
  },
  {
   "cell_type": "code",
   "execution_count": 26,
   "id": "39352404",
   "metadata": {
    "execution": {
     "iopub.execute_input": "2022-03-10T01:53:48.717565Z",
     "iopub.status.busy": "2022-03-10T01:53:48.716471Z",
     "iopub.status.idle": "2022-03-10T01:53:48.720055Z",
     "shell.execute_reply": "2022-03-10T01:53:48.719402Z",
     "shell.execute_reply.started": "2022-03-09T13:58:21.384387Z"
    },
    "papermill": {
     "duration": 0.319221,
     "end_time": "2022-03-10T01:53:48.720240",
     "exception": false,
     "start_time": "2022-03-10T01:53:48.401019",
     "status": "completed"
    },
    "tags": []
   },
   "outputs": [],
   "source": [
    "# sm1 = np.squeeze(s1)\n",
    "# sm2 = np.squeeze(s2)\n",
    "# sm3 = np.squeeze(s3)\n",
    "# sm4 = np.squeeze(s4)\n",
    "# plt.plot(sm1, label= 'similarity1')\n",
    "# plt.plot(sm2, label= 'similarity2')\n",
    "# plt.plot(sm3, label= 'similarity3')\n",
    "# plt.plot(sm4, label= 'similarity4')\n",
    "# plt.ylabel('simlarity_value')\n",
    "# plt.xlabel('epoches')\n",
    "# plt.title(\"Learning rate =1e-3\")\n",
    "# legend2 = plt.legend(loc='upper center', shadow=True)\n",
    "# frame = legend2.get_frame()\n",
    "# frame.set_facecolor('0.90')\n",
    "# plt.show()"
   ]
  },
  {
   "cell_type": "code",
   "execution_count": 27,
   "id": "bf8f3164",
   "metadata": {
    "execution": {
     "iopub.execute_input": "2022-03-10T01:53:49.335652Z",
     "iopub.status.busy": "2022-03-10T01:53:49.334537Z",
     "iopub.status.idle": "2022-03-10T01:53:49.337225Z",
     "shell.execute_reply": "2022-03-10T01:53:49.337773Z",
     "shell.execute_reply.started": "2022-03-09T13:58:21.386072Z"
    },
    "papermill": {
     "duration": 0.312665,
     "end_time": "2022-03-10T01:53:49.337942",
     "exception": false,
     "start_time": "2022-03-10T01:53:49.025277",
     "status": "completed"
    },
    "tags": []
   },
   "outputs": [],
   "source": [
    "# torch.save(model.state_dict(), \"./model_v1\")\n",
    "# print(\"Saved PyTorch Model State to model.pth\")"
   ]
  },
  {
   "cell_type": "code",
   "execution_count": null,
   "id": "af4f3b17",
   "metadata": {
    "papermill": {
     "duration": 0.301699,
     "end_time": "2022-03-10T01:53:49.949394",
     "exception": false,
     "start_time": "2022-03-10T01:53:49.647695",
     "status": "completed"
    },
    "tags": []
   },
   "outputs": [],
   "source": []
  }
 ],
 "metadata": {
  "kernelspec": {
   "display_name": "Python 3",
   "language": "python",
   "name": "python3"
  },
  "language_info": {
   "codemirror_mode": {
    "name": "ipython",
    "version": 3
   },
   "file_extension": ".py",
   "mimetype": "text/x-python",
   "name": "python",
   "nbconvert_exporter": "python",
   "pygments_lexer": "ipython3",
   "version": "3.7.12"
  },
  "papermill": {
   "default_parameters": {},
   "duration": 36435.106104,
   "end_time": "2022-03-10T01:53:53.508191",
   "environment_variables": {},
   "exception": null,
   "input_path": "__notebook__.ipynb",
   "output_path": "__notebook__.ipynb",
   "parameters": {},
   "start_time": "2022-03-09T15:46:38.402087",
   "version": "2.3.3"
  }
 },
 "nbformat": 4,
 "nbformat_minor": 5
}
